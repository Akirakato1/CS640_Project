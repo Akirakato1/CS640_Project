{
 "cells": [
  {
   "cell_type": "code",
   "execution_count": 1,
   "metadata": {},
   "outputs": [],
   "source": [
    "\n",
    "import numpy as np\n",
    "import pandas as pd\n",
    "import os\n",
    "import glob\n",
    "import matplotlib.pyplot as plt"
   ]
  },
  {
   "cell_type": "code",
   "execution_count": 2,
   "metadata": {},
   "outputs": [],
   "source": [
    "TRAIN_TEST_SPLIT = 0.8"
   ]
  },
  {
   "cell_type": "code",
   "execution_count": 3,
   "metadata": {},
   "outputs": [],
   "source": [
    "dataset_folder = '/usr4/cs640g/wyutong/ondemand/data/sys/dashboard/batch_connect/db/UTKFace/UTKFace'"
   ]
  },
  {
   "cell_type": "code",
   "execution_count": 4,
   "metadata": {},
   "outputs": [],
   "source": [
    "dataset_dict = {'race_id':{0:'white',\n",
    "                           1:'black',\n",
    "                           2:'asian',\n",
    "                           3:'indian',\n",
    "                           4:'others'\n",
    "                 },\n",
    "                 'gender_id':{0:'male',\n",
    "                              1:'female'\n",
    "                     \n",
    "                 }\n",
    "               }"
   ]
  },
  {
   "cell_type": "code",
   "execution_count": 5,
   "metadata": {},
   "outputs": [],
   "source": [
    "dataset_dict['gender_alias'] = dict((g, i) for i, g in dataset_dict['gender_id'].items())\n",
    "dataset_dict['race_alias'] = dict((r, i) for i, r in dataset_dict['race_id'].items())"
   ]
  },
  {
   "cell_type": "code",
   "execution_count": 6,
   "metadata": {},
   "outputs": [],
   "source": [
    " def parse_info_from_file(path):\n",
    "        try:\n",
    "            filename = os.path.split(path)[1]\n",
    "            filename = os.path.splitext(filename)[0]\n",
    "            age, gender, race, _ = filename.split('_')\n",
    "            return int(age), dataset_dict['gender_id'][int(gender)], dataset_dict['race_id'][int(race)]\n",
    "        except Exception as ex:\n",
    "            return None, None, None"
   ]
  },
  {
   "cell_type": "code",
   "execution_count": 7,
   "metadata": {},
   "outputs": [],
   "source": [
    "def parse_dataset(dataset_path, ext='jpg'):     \n",
    "    files = glob.glob(os.path.join(dataset_path, \"*.%s\" % ext))\n",
    "    \n",
    "    records = []\n",
    "    for i,file in enumerate(files):\n",
    "        info = parse_info_from_file(file)\n",
    "        records.append(info)\n",
    "        \n",
    "    df = pd.DataFrame(records)\n",
    "    df['file'] = files\n",
    "    df.columns = ['age', 'gender', 'race', 'file']\n",
    "    df = df.dropna()\n",
    "    \n",
    "    return df"
   ]
  },
  {
   "cell_type": "code",
   "execution_count": 8,
   "metadata": {},
   "outputs": [
    {
     "data": {
      "text/html": [
       "<div>\n",
       "<style scoped>\n",
       "    .dataframe tbody tr th:only-of-type {\n",
       "        vertical-align: middle;\n",
       "    }\n",
       "\n",
       "    .dataframe tbody tr th {\n",
       "        vertical-align: top;\n",
       "    }\n",
       "\n",
       "    .dataframe thead th {\n",
       "        text-align: right;\n",
       "    }\n",
       "</style>\n",
       "<table border=\"1\" class=\"dataframe\">\n",
       "  <thead>\n",
       "    <tr style=\"text-align: right;\">\n",
       "      <th></th>\n",
       "      <th>age</th>\n",
       "      <th>gender</th>\n",
       "      <th>race</th>\n",
       "      <th>file</th>\n",
       "    </tr>\n",
       "  </thead>\n",
       "  <tbody>\n",
       "    <tr>\n",
       "      <th>0</th>\n",
       "      <td>47.0</td>\n",
       "      <td>female</td>\n",
       "      <td>indian</td>\n",
       "      <td>/usr4/cs640g/wyutong/ondemand/data/sys/dashboa...</td>\n",
       "    </tr>\n",
       "    <tr>\n",
       "      <th>1</th>\n",
       "      <td>1.0</td>\n",
       "      <td>female</td>\n",
       "      <td>white</td>\n",
       "      <td>/usr4/cs640g/wyutong/ondemand/data/sys/dashboa...</td>\n",
       "    </tr>\n",
       "    <tr>\n",
       "      <th>2</th>\n",
       "      <td>35.0</td>\n",
       "      <td>female</td>\n",
       "      <td>black</td>\n",
       "      <td>/usr4/cs640g/wyutong/ondemand/data/sys/dashboa...</td>\n",
       "    </tr>\n",
       "    <tr>\n",
       "      <th>3</th>\n",
       "      <td>26.0</td>\n",
       "      <td>female</td>\n",
       "      <td>asian</td>\n",
       "      <td>/usr4/cs640g/wyutong/ondemand/data/sys/dashboa...</td>\n",
       "    </tr>\n",
       "    <tr>\n",
       "      <th>4</th>\n",
       "      <td>29.0</td>\n",
       "      <td>male</td>\n",
       "      <td>white</td>\n",
       "      <td>/usr4/cs640g/wyutong/ondemand/data/sys/dashboa...</td>\n",
       "    </tr>\n",
       "  </tbody>\n",
       "</table>\n",
       "</div>"
      ],
      "text/plain": [
       "    age  gender    race                                               file\n",
       "0  47.0  female  indian  /usr4/cs640g/wyutong/ondemand/data/sys/dashboa...\n",
       "1   1.0  female   white  /usr4/cs640g/wyutong/ondemand/data/sys/dashboa...\n",
       "2  35.0  female   black  /usr4/cs640g/wyutong/ondemand/data/sys/dashboa...\n",
       "3  26.0  female   asian  /usr4/cs640g/wyutong/ondemand/data/sys/dashboa...\n",
       "4  29.0    male   white  /usr4/cs640g/wyutong/ondemand/data/sys/dashboa..."
      ]
     },
     "execution_count": 8,
     "metadata": {},
     "output_type": "execute_result"
    }
   ],
   "source": [
    "df = parse_dataset(dataset_folder)\n",
    "df.head()"
   ]
  },
  {
   "cell_type": "code",
   "execution_count": 9,
   "metadata": {},
   "outputs": [],
   "source": [
    "df = df[df.race != 'indian']"
   ]
  },
  {
   "cell_type": "code",
   "execution_count": 10,
   "metadata": {},
   "outputs": [
    {
     "data": {
      "text/html": [
       "<div>\n",
       "<style scoped>\n",
       "    .dataframe tbody tr th:only-of-type {\n",
       "        vertical-align: middle;\n",
       "    }\n",
       "\n",
       "    .dataframe tbody tr th {\n",
       "        vertical-align: top;\n",
       "    }\n",
       "\n",
       "    .dataframe thead th {\n",
       "        text-align: right;\n",
       "    }\n",
       "</style>\n",
       "<table border=\"1\" class=\"dataframe\">\n",
       "  <thead>\n",
       "    <tr style=\"text-align: right;\">\n",
       "      <th></th>\n",
       "      <th>age</th>\n",
       "      <th>race</th>\n",
       "      <th>file</th>\n",
       "    </tr>\n",
       "  </thead>\n",
       "  <tbody>\n",
       "    <tr>\n",
       "      <th>1</th>\n",
       "      <td>1.0</td>\n",
       "      <td>white</td>\n",
       "      <td>/usr4/cs640g/wyutong/ondemand/data/sys/dashboa...</td>\n",
       "    </tr>\n",
       "    <tr>\n",
       "      <th>2</th>\n",
       "      <td>35.0</td>\n",
       "      <td>black</td>\n",
       "      <td>/usr4/cs640g/wyutong/ondemand/data/sys/dashboa...</td>\n",
       "    </tr>\n",
       "    <tr>\n",
       "      <th>3</th>\n",
       "      <td>26.0</td>\n",
       "      <td>asian</td>\n",
       "      <td>/usr4/cs640g/wyutong/ondemand/data/sys/dashboa...</td>\n",
       "    </tr>\n",
       "    <tr>\n",
       "      <th>4</th>\n",
       "      <td>29.0</td>\n",
       "      <td>white</td>\n",
       "      <td>/usr4/cs640g/wyutong/ondemand/data/sys/dashboa...</td>\n",
       "    </tr>\n",
       "    <tr>\n",
       "      <th>5</th>\n",
       "      <td>52.0</td>\n",
       "      <td>white</td>\n",
       "      <td>/usr4/cs640g/wyutong/ondemand/data/sys/dashboa...</td>\n",
       "    </tr>\n",
       "  </tbody>\n",
       "</table>\n",
       "</div>"
      ],
      "text/plain": [
       "    age   race                                               file\n",
       "1   1.0  white  /usr4/cs640g/wyutong/ondemand/data/sys/dashboa...\n",
       "2  35.0  black  /usr4/cs640g/wyutong/ondemand/data/sys/dashboa...\n",
       "3  26.0  asian  /usr4/cs640g/wyutong/ondemand/data/sys/dashboa...\n",
       "4  29.0  white  /usr4/cs640g/wyutong/ondemand/data/sys/dashboa...\n",
       "5  52.0  white  /usr4/cs640g/wyutong/ondemand/data/sys/dashboa..."
      ]
     },
     "execution_count": 10,
     "metadata": {},
     "output_type": "execute_result"
    }
   ],
   "source": [
    "df.drop(columns=['gender'],inplace = True)\n",
    "df.head()"
   ]
  },
  {
   "cell_type": "code",
   "execution_count": null,
   "metadata": {},
   "outputs": [],
   "source": []
  },
  {
   "cell_type": "code",
   "execution_count": 11,
   "metadata": {},
   "outputs": [],
   "source": [
    "\n",
    "def plot_distribution(pd_series):\n",
    "    labels = pd_series.value_counts().index.tolist()\n",
    "    counts = pd_series.value_counts().values.tolist()\n",
    "    print(labels,counts)"
   ]
  },
  {
   "cell_type": "code",
   "execution_count": 12,
   "metadata": {},
   "outputs": [
    {
     "name": "stdout",
     "output_type": "stream",
     "text": [
      "['white', 'black', 'asian', 'others'] [3717, 1718, 1246, 660]\n"
     ]
    }
   ],
   "source": [
    "plot_distribution(df['race'])"
   ]
  },
  {
   "cell_type": "code",
   "execution_count": 13,
   "metadata": {},
   "outputs": [
    {
     "name": "stdout",
     "output_type": "stream",
     "text": [
      "['20-30', '30-40', '40-60', '<10', '60-80', '10-20', '80+'] [2333, 1342, 1324, 989, 643, 537, 173]\n"
     ]
    }
   ],
   "source": [
    "bins = [0, 10, 20, 30, 40, 60, 80, np.inf]\n",
    "names = ['<10', '10-20', '20-30', '30-40', '40-60', '60-80', '80+']\n",
    "age_binned = pd.cut(df['age'], bins, labels=names)\n",
    "plot_distribution(age_binned)"
   ]
  },
  {
   "cell_type": "code",
   "execution_count": 14,
   "metadata": {},
   "outputs": [],
   "source": [
    "dataset_dict = {'race_id':{0:'white',\n",
    "                           1:'black',\n",
    "                           2:'asian',\n",
    "                           3:'others'\n",
    "                 }}\n",
    "                 "
   ]
  },
  {
   "cell_type": "code",
   "execution_count": 15,
   "metadata": {},
   "outputs": [],
   "source": [
    "#dataset_dict['gender_alias'] = dict((g, i) for i, g in dataset_dict['gender_id'].items())\n",
    "dataset_dict['race_alias'] = dict((r, i) for i, r in dataset_dict['race_id'].items())"
   ]
  },
  {
   "cell_type": "code",
   "execution_count": 16,
   "metadata": {},
   "outputs": [
    {
     "name": "stdout",
     "output_type": "stream",
     "text": [
      "{'race_id': {0: 'white', 1: 'black', 2: 'asian', 3: 'others'}, 'race_alias': {'white': 0, 'black': 1, 'asian': 2, 'others': 3}}\n"
     ]
    }
   ],
   "source": [
    "print(dataset_dict)"
   ]
  },
  {
   "cell_type": "code",
   "execution_count": 17,
   "metadata": {},
   "outputs": [
    {
     "data": {
      "text/html": [
       "<div>\n",
       "<style scoped>\n",
       "    .dataframe tbody tr th:only-of-type {\n",
       "        vertical-align: middle;\n",
       "    }\n",
       "\n",
       "    .dataframe tbody tr th {\n",
       "        vertical-align: top;\n",
       "    }\n",
       "\n",
       "    .dataframe thead th {\n",
       "        text-align: right;\n",
       "    }\n",
       "</style>\n",
       "<table border=\"1\" class=\"dataframe\">\n",
       "  <thead>\n",
       "    <tr style=\"text-align: right;\">\n",
       "      <th></th>\n",
       "      <th>age</th>\n",
       "      <th>race</th>\n",
       "      <th>file</th>\n",
       "    </tr>\n",
       "  </thead>\n",
       "  <tbody>\n",
       "    <tr>\n",
       "      <th>1</th>\n",
       "      <td>1.0</td>\n",
       "      <td>white</td>\n",
       "      <td>/usr4/cs640g/wyutong/ondemand/data/sys/dashboa...</td>\n",
       "    </tr>\n",
       "    <tr>\n",
       "      <th>2</th>\n",
       "      <td>35.0</td>\n",
       "      <td>black</td>\n",
       "      <td>/usr4/cs640g/wyutong/ondemand/data/sys/dashboa...</td>\n",
       "    </tr>\n",
       "    <tr>\n",
       "      <th>3</th>\n",
       "      <td>26.0</td>\n",
       "      <td>asian</td>\n",
       "      <td>/usr4/cs640g/wyutong/ondemand/data/sys/dashboa...</td>\n",
       "    </tr>\n",
       "    <tr>\n",
       "      <th>4</th>\n",
       "      <td>29.0</td>\n",
       "      <td>white</td>\n",
       "      <td>/usr4/cs640g/wyutong/ondemand/data/sys/dashboa...</td>\n",
       "    </tr>\n",
       "    <tr>\n",
       "      <th>5</th>\n",
       "      <td>52.0</td>\n",
       "      <td>white</td>\n",
       "      <td>/usr4/cs640g/wyutong/ondemand/data/sys/dashboa...</td>\n",
       "    </tr>\n",
       "  </tbody>\n",
       "</table>\n",
       "</div>"
      ],
      "text/plain": [
       "    age   race                                               file\n",
       "1   1.0  white  /usr4/cs640g/wyutong/ondemand/data/sys/dashboa...\n",
       "2  35.0  black  /usr4/cs640g/wyutong/ondemand/data/sys/dashboa...\n",
       "3  26.0  asian  /usr4/cs640g/wyutong/ondemand/data/sys/dashboa...\n",
       "4  29.0  white  /usr4/cs640g/wyutong/ondemand/data/sys/dashboa...\n",
       "5  52.0  white  /usr4/cs640g/wyutong/ondemand/data/sys/dashboa..."
      ]
     },
     "execution_count": 17,
     "metadata": {},
     "output_type": "execute_result"
    }
   ],
   "source": [
    "df.head()"
   ]
  },
  {
   "cell_type": "code",
   "execution_count": 19,
   "metadata": {},
   "outputs": [],
   "source": [
    "from tensorflow.keras.utils import to_categorical\n",
    "from PIL import Image\n",
    "\n",
    "class UtkFaceDataGenerator():\n",
    "    def __init__(self, df):\n",
    "        self.df = df\n",
    "        \n",
    "    def generate_split_indexes(self):\n",
    "        p = np.random.permutation(len(self.df))\n",
    "        train_up_to = int(len(self.df) * TRAIN_TEST_SPLIT)\n",
    "        train_idx = p[:train_up_to]\n",
    "        test_idx = p[train_up_to:]        \n",
    "        train_up_to = int(train_up_to * TRAIN_TEST_SPLIT)\n",
    "        train_idx, valid_idx = train_idx[:train_up_to], train_idx[train_up_to:]\n",
    "        \n",
    "        #self.df['gender_id'] = self.df['gender'].map(lambda gender: dataset_dict['gender_alias'][gender])\n",
    "        self.df['race_id'] = self.df['race'].map(lambda race: dataset_dict['race_alias'][race])        \n",
    "        self.max_age = self.df['age'].max()\n",
    "        \n",
    "        return train_idx, valid_idx, test_idx\n",
    "    \n",
    "    def preprocess_image(self, img_path):\n",
    "        im = Image.open(img_path)\n",
    "        im = im.resize((IM_WIDTH, IM_HEIGHT))\n",
    "        im = np.array(im) / 255.0       \n",
    "        return im\n",
    "        \n",
    "    def generate_images(self, image_idx, is_training, batch_size=32):     \n",
    "        images, ages, races = [], [], []\n",
    "        while True:\n",
    "            for idx in image_idx:\n",
    "                person = self.df.iloc[idx]\n",
    "                \n",
    "                age = person['age']\n",
    "                race = person['race_id']\n",
    "                #gender = person['gender_id']\n",
    "                file = person['file']\n",
    "                \n",
    "                im = self.preprocess_image(file)\n",
    "                \n",
    "                ages.append(age / self.max_age)\n",
    "                races.append(to_categorical(race, len(dataset_dict['race_id'])))\n",
    "                #genders.append(to_categorical(gender, len(dataset_dict['gender_id'])))\n",
    "                images.append(im)\n",
    "                \n",
    "                if len(images) >= batch_size:\n",
    "                    yield np.array(images), [np.array(ages), np.array(races)]\n",
    "                    images, ages, races, genders = [], [], [], []\n",
    "                    \n",
    "            if not is_training:\n",
    "                break"
   ]
  },
  {
   "cell_type": "code",
   "execution_count": 20,
   "metadata": {},
   "outputs": [],
   "source": [
    "data_generator = UtkFaceDataGenerator(df)\n",
    "train_idx, valid_idx, test_idx = data_generator.generate_split_indexes() "
   ]
  },
  {
   "cell_type": "code",
   "execution_count": 21,
   "metadata": {},
   "outputs": [],
   "source": [
    "from tensorflow.keras.models import Model\n",
    "from tensorflow.keras.layers import BatchNormalization\n",
    "from tensorflow.keras.layers import Conv2D\n",
    "from tensorflow.keras.layers import MaxPooling2D\n",
    "from tensorflow.keras.layers import Activation\n",
    "from tensorflow.keras.layers import Dropout\n",
    "from tensorflow.keras.layers import Lambda\n",
    "from tensorflow.keras.layers import Dense\n",
    "from tensorflow.keras.layers import Flatten\n",
    "from tensorflow.keras.layers import Input\n",
    "import tensorflow as tf\n",
    "\n",
    "class UtkMultiOutputModel():\n",
    "    def make_default_hidden_layers(self, inputs):\n",
    "        x = Conv2D(16, (3, 3), padding=\"same\")(inputs)\n",
    "        x = Activation(\"relu\")(x)\n",
    "        x = BatchNormalization(axis=-1)(x)\n",
    "        x = MaxPooling2D(pool_size=(3, 3))(x)\n",
    "        x = Dropout(0.25)(x)        \n",
    "        x = Conv2D(32, (3, 3), padding=\"same\")(x)\n",
    "        x = Activation(\"relu\")(x)\n",
    "        x = BatchNormalization(axis=-1)(x)\n",
    "        x = MaxPooling2D(pool_size=(2, 2))(x)\n",
    "        x = Dropout(0.25)(x)        \n",
    "        x = Conv2D(32, (3, 3), padding=\"same\")(x)\n",
    "        x = Activation(\"relu\")(x)\n",
    "        x = BatchNormalization(axis=-1)(x)\n",
    "        x = MaxPooling2D(pool_size=(2, 2))(x)\n",
    "        x = Dropout(0.25)(x)        \n",
    "        return x  \n",
    "    \n",
    "    def build_race_branch(self, inputs, num_races):\n",
    "        x = self.make_default_hidden_layers(inputs)        \n",
    "        x = Flatten()(x)\n",
    "        x = Dense(128)(x)\n",
    "        x = Activation(\"relu\")(x)\n",
    "        x = BatchNormalization()(x)\n",
    "        x = Dropout(0.5)(x)\n",
    "        x = Dense(num_races)(x)\n",
    "        x = Activation(\"softmax\", name=\"race_output\")(x)        \n",
    "        return x  \n",
    "    \n",
    "    \n",
    "    def build_age_branch(self, inputs):            \n",
    "        x = self.make_default_hidden_layers(inputs)        \n",
    "        x = Flatten()(x)\n",
    "        x = Dense(128)(x)\n",
    "        x = Activation(\"relu\")(x)\n",
    "        x = BatchNormalization()(x)\n",
    "        x = Dropout(0.5)(x)\n",
    "        x = Dense(1)(x)\n",
    "        x = Activation(\"linear\", name=\"age_output\")(x)        \n",
    "        return x \n",
    "    \n",
    "    def assemble_full_model(self, width, height, num_races):       \n",
    "        input_shape = (height, width, 3)        \n",
    "        inputs = Input(shape=input_shape)        \n",
    "        age_branch = self.build_age_branch(inputs)\n",
    "        race_branch = self.build_race_branch(inputs, num_races)\n",
    "        #gender_branch = self.build_gender_branch(inputs)        \n",
    "        model = Model(inputs=inputs,\n",
    "                     outputs = [age_branch, race_branch],\n",
    "                     name=\"face_net\")        \n",
    "        return model"
   ]
  },
  {
   "cell_type": "code",
   "execution_count": 22,
   "metadata": {},
   "outputs": [],
   "source": [
    "IM_WIDTH = IM_HEIGHT = 198"
   ]
  },
  {
   "cell_type": "code",
   "execution_count": 23,
   "metadata": {},
   "outputs": [],
   "source": [
    "model = UtkMultiOutputModel().assemble_full_model(IM_WIDTH, IM_HEIGHT, num_races=len(dataset_dict['race_alias']))"
   ]
  },
  {
   "cell_type": "code",
   "execution_count": 29,
   "metadata": {},
   "outputs": [],
   "source": [
    "init_lr = 1e-4\n",
    "epochs = 100"
   ]
  },
  {
   "cell_type": "code",
   "execution_count": 25,
   "metadata": {},
   "outputs": [
    {
     "name": "stderr",
     "output_type": "stream",
     "text": [
      "/share/pkg.7/tensorflow/2.5.0/install/lib/SCC/../python3.8/site-packages/tensorflow/python/keras/optimizer_v2/optimizer_v2.py:374: UserWarning: The `lr` argument is deprecated, use `learning_rate` instead.\n",
      "  warnings.warn(\n"
     ]
    }
   ],
   "source": [
    "from tensorflow.keras.optimizers import Adam\n",
    "\n",
    "opt = Adam(lr=init_lr, decay=init_lr / epochs)\n",
    "model.compile(optimizer=opt, \n",
    "              loss={\n",
    "                  'age_output': 'mse', \n",
    "                  'race_output': 'categorical_crossentropy'\n",
    "                  },\n",
    "              \n",
    "              loss_weights={\n",
    "                  'age_output': 4., \n",
    "                  'race_output': 1.5\n",
    "                  },\n",
    "              \n",
    "              metrics={\n",
    "                  'age_output': 'mae', \n",
    "                  'race_output': 'accuracy'\n",
    "                  })"
   ]
  },
  {
   "cell_type": "code",
   "execution_count": 42,
   "metadata": {},
   "outputs": [],
   "source": [
    "from tensorflow import keras\n",
    "model = keras.models.load_model(\"./Best_model_params.h5\")"
   ]
  },
  {
   "cell_type": "code",
   "execution_count": 30,
   "metadata": {},
   "outputs": [
    {
     "name": "stdout",
     "output_type": "stream",
     "text": [
      "Epoch 1/100\n",
      "146/146 [==============================] - 25s 174ms/step - loss: 10.8614 - age_output_loss: 2.2072 - race_output_loss: 1.3550 - age_output_mae: 1.1589 - race_output_accuracy: 0.5435 - val_loss: 198.2869 - val_age_output_loss: 48.6513 - val_race_output_loss: 2.4545 - val_age_output_mae: 6.9393 - val_race_output_accuracy: 0.5026\n",
      "Epoch 2/100\n",
      "146/146 [==============================] - 15s 106ms/step - loss: 9.0900 - age_output_loss: 1.8432 - race_output_loss: 1.1449 - age_output_mae: 1.0503 - race_output_accuracy: 0.5978 - val_loss: 280.2472 - val_age_output_loss: 69.3705 - val_race_output_loss: 1.8434 - val_age_output_mae: 7.9350 - val_race_output_accuracy: 0.4505\n",
      "Epoch 3/100\n",
      "146/146 [==============================] - 15s 105ms/step - loss: 7.4829 - age_output_loss: 1.4796 - race_output_loss: 1.0429 - age_output_mae: 0.9432 - race_output_accuracy: 0.6366 - val_loss: 211.1392 - val_age_output_loss: 52.1715 - val_race_output_loss: 1.6354 - val_age_output_mae: 5.6821 - val_race_output_accuracy: 0.4896\n",
      "Epoch 4/100\n",
      "146/146 [==============================] - 15s 104ms/step - loss: 6.9334 - age_output_loss: 1.3679 - race_output_loss: 0.9745 - age_output_mae: 0.8958 - race_output_accuracy: 0.6569 - val_loss: 135.6217 - val_age_output_loss: 33.4534 - val_race_output_loss: 1.2055 - val_age_output_mae: 3.8267 - val_race_output_accuracy: 0.6007\n",
      "Epoch 5/100\n",
      "146/146 [==============================] - 15s 102ms/step - loss: 6.0933 - age_output_loss: 1.1764 - race_output_loss: 0.9251 - age_output_mae: 0.8292 - race_output_accuracy: 0.6798 - val_loss: 161.3093 - val_age_output_loss: 39.9664 - val_race_output_loss: 0.9625 - val_age_output_mae: 3.8470 - val_race_output_accuracy: 0.6875\n",
      "Epoch 6/100\n",
      "146/146 [==============================] - 15s 104ms/step - loss: 5.5022 - age_output_loss: 1.0596 - race_output_loss: 0.8427 - age_output_mae: 0.7864 - race_output_accuracy: 0.7055 - val_loss: 111.8126 - val_age_output_loss: 27.6457 - val_race_output_loss: 0.8198 - val_age_output_mae: 3.0012 - val_race_output_accuracy: 0.7266\n",
      "Epoch 7/100\n",
      "146/146 [==============================] - 15s 103ms/step - loss: 5.0848 - age_output_loss: 0.9692 - race_output_loss: 0.8053 - age_output_mae: 0.7532 - race_output_accuracy: 0.7123 - val_loss: 76.0420 - val_age_output_loss: 18.6995 - val_race_output_loss: 0.8294 - val_age_output_mae: 2.3362 - val_race_output_accuracy: 0.7214\n",
      "Epoch 8/100\n",
      "146/146 [==============================] - 15s 104ms/step - loss: 4.6941 - age_output_loss: 0.8861 - race_output_loss: 0.7665 - age_output_mae: 0.7203 - race_output_accuracy: 0.7217 - val_loss: 62.0266 - val_age_output_loss: 15.1619 - val_race_output_loss: 0.9194 - val_age_output_mae: 2.0511 - val_race_output_accuracy: 0.6979\n",
      "Epoch 9/100\n",
      "146/146 [==============================] - 15s 106ms/step - loss: 4.3367 - age_output_loss: 0.8141 - race_output_loss: 0.7201 - age_output_mae: 0.6895 - race_output_accuracy: 0.7421 - val_loss: 48.9710 - val_age_output_loss: 11.9762 - val_race_output_loss: 0.7109 - val_age_output_mae: 1.7476 - val_race_output_accuracy: 0.7569\n",
      "Epoch 10/100\n",
      "146/146 [==============================] - 15s 106ms/step - loss: 3.9651 - age_output_loss: 0.7342 - race_output_loss: 0.6855 - age_output_mae: 0.6548 - race_output_accuracy: 0.7470 - val_loss: 56.8935 - val_age_output_loss: 13.9287 - val_race_output_loss: 0.7859 - val_age_output_mae: 1.9588 - val_race_output_accuracy: 0.7491\n",
      "Epoch 11/100\n",
      "146/146 [==============================] - 16s 107ms/step - loss: 3.6647 - age_output_loss: 0.6680 - race_output_loss: 0.6618 - age_output_mae: 0.6239 - race_output_accuracy: 0.7665 - val_loss: 89.6905 - val_age_output_loss: 22.1281 - val_race_output_loss: 0.7853 - val_age_output_mae: 2.4011 - val_race_output_accuracy: 0.7370\n",
      "Epoch 12/100\n",
      "146/146 [==============================] - 16s 107ms/step - loss: 3.4557 - age_output_loss: 0.6248 - race_output_loss: 0.6378 - age_output_mae: 0.5987 - race_output_accuracy: 0.7738 - val_loss: 87.1187 - val_age_output_loss: 21.4487 - val_race_output_loss: 0.8826 - val_age_output_mae: 2.3271 - val_race_output_accuracy: 0.7309\n",
      "Epoch 13/100\n",
      "146/146 [==============================] - 15s 106ms/step - loss: 3.3341 - age_output_loss: 0.5985 - race_output_loss: 0.6267 - age_output_mae: 0.5788 - race_output_accuracy: 0.7768 - val_loss: 70.2332 - val_age_output_loss: 17.1939 - val_race_output_loss: 0.9717 - val_age_output_mae: 2.0782 - val_race_output_accuracy: 0.7439\n",
      "Epoch 14/100\n",
      "146/146 [==============================] - 15s 105ms/step - loss: 2.9244 - age_output_loss: 0.5040 - race_output_loss: 0.6056 - age_output_mae: 0.5355 - race_output_accuracy: 0.7879 - val_loss: 89.9040 - val_age_output_loss: 22.1524 - val_race_output_loss: 0.8628 - val_age_output_mae: 2.3496 - val_race_output_accuracy: 0.7569\n",
      "Epoch 15/100\n",
      "146/146 [==============================] - 16s 107ms/step - loss: 2.7555 - age_output_loss: 0.4717 - race_output_loss: 0.5790 - age_output_mae: 0.5210 - race_output_accuracy: 0.7900 - val_loss: 72.8169 - val_age_output_loss: 17.8628 - val_race_output_loss: 0.9106 - val_age_output_mae: 2.0070 - val_race_output_accuracy: 0.7587\n",
      "Epoch 16/100\n",
      "146/146 [==============================] - 16s 108ms/step - loss: 2.5301 - age_output_loss: 0.4221 - race_output_loss: 0.5610 - age_output_mae: 0.4921 - race_output_accuracy: 0.7935 - val_loss: 69.2891 - val_age_output_loss: 16.9663 - val_race_output_loss: 0.9491 - val_age_output_mae: 1.8944 - val_race_output_accuracy: 0.7431\n",
      "Epoch 17/100\n",
      "146/146 [==============================] - 15s 106ms/step - loss: 2.3699 - age_output_loss: 0.3877 - race_output_loss: 0.5460 - age_output_mae: 0.4708 - race_output_accuracy: 0.8020 - val_loss: 65.9032 - val_age_output_loss: 16.1771 - val_race_output_loss: 0.7964 - val_age_output_mae: 1.8770 - val_race_output_accuracy: 0.7587\n",
      "Epoch 18/100\n",
      "146/146 [==============================] - 15s 105ms/step - loss: 2.3050 - age_output_loss: 0.3718 - race_output_loss: 0.5452 - age_output_mae: 0.4595 - race_output_accuracy: 0.8031 - val_loss: 64.5848 - val_age_output_loss: 15.8475 - val_race_output_loss: 0.7966 - val_age_output_mae: 1.8862 - val_race_output_accuracy: 0.7630\n",
      "Epoch 19/100\n",
      "146/146 [==============================] - 15s 102ms/step - loss: 2.1068 - age_output_loss: 0.3328 - race_output_loss: 0.5172 - age_output_mae: 0.4309 - race_output_accuracy: 0.8140 - val_loss: 62.2988 - val_age_output_loss: 15.2582 - val_race_output_loss: 0.8439 - val_age_output_mae: 1.8344 - val_race_output_accuracy: 0.7535\n",
      "Epoch 20/100\n",
      "146/146 [==============================] - 15s 104ms/step - loss: 1.9659 - age_output_loss: 0.3049 - race_output_loss: 0.4977 - age_output_mae: 0.4177 - race_output_accuracy: 0.8200 - val_loss: 61.1309 - val_age_output_loss: 14.9683 - val_race_output_loss: 0.8385 - val_age_output_mae: 1.8190 - val_race_output_accuracy: 0.7526\n",
      "Epoch 21/100\n",
      "146/146 [==============================] - 15s 103ms/step - loss: 1.8083 - age_output_loss: 0.2691 - race_output_loss: 0.4879 - age_output_mae: 0.3931 - race_output_accuracy: 0.8249 - val_loss: 86.7707 - val_age_output_loss: 21.3954 - val_race_output_loss: 0.7927 - val_age_output_mae: 2.1140 - val_race_output_accuracy: 0.7622\n",
      "Epoch 22/100\n",
      "146/146 [==============================] - 15s 104ms/step - loss: 1.6981 - age_output_loss: 0.2427 - race_output_loss: 0.4849 - age_output_mae: 0.3789 - race_output_accuracy: 0.8268 - val_loss: 81.8926 - val_age_output_loss: 20.1699 - val_race_output_loss: 0.8087 - val_age_output_mae: 1.9834 - val_race_output_accuracy: 0.7726\n",
      "Epoch 23/100\n",
      "146/146 [==============================] - 15s 104ms/step - loss: 1.5554 - age_output_loss: 0.2118 - race_output_loss: 0.4722 - age_output_mae: 0.3509 - race_output_accuracy: 0.8307 - val_loss: 76.0635 - val_age_output_loss: 18.6917 - val_race_output_loss: 0.8643 - val_age_output_mae: 1.8965 - val_race_output_accuracy: 0.7561\n",
      "Epoch 24/100\n",
      "146/146 [==============================] - 15s 107ms/step - loss: 1.4610 - age_output_loss: 0.1915 - race_output_loss: 0.4634 - age_output_mae: 0.3327 - race_output_accuracy: 0.8296 - val_loss: 72.0475 - val_age_output_loss: 17.7321 - val_race_output_loss: 0.7461 - val_age_output_mae: 1.8293 - val_race_output_accuracy: 0.7856\n",
      "Epoch 25/100\n"
     ]
    },
    {
     "name": "stdout",
     "output_type": "stream",
     "text": [
      "146/146 [==============================] - 15s 105ms/step - loss: 1.4187 - age_output_loss: 0.1877 - race_output_loss: 0.4452 - age_output_mae: 0.3259 - race_output_accuracy: 0.8365 - val_loss: 76.6912 - val_age_output_loss: 18.8826 - val_race_output_loss: 0.7739 - val_age_output_mae: 1.9474 - val_race_output_accuracy: 0.7891\n",
      "Epoch 26/100\n",
      "146/146 [==============================] - 16s 107ms/step - loss: 1.2792 - age_output_loss: 0.1604 - race_output_loss: 0.4252 - age_output_mae: 0.3060 - race_output_accuracy: 0.8425 - val_loss: 75.2700 - val_age_output_loss: 18.5382 - val_race_output_loss: 0.7449 - val_age_output_mae: 1.9307 - val_race_output_accuracy: 0.7847\n",
      "Epoch 27/100\n",
      "146/146 [==============================] - 15s 104ms/step - loss: 1.2366 - age_output_loss: 0.1493 - race_output_loss: 0.4263 - age_output_mae: 0.2930 - race_output_accuracy: 0.8420 - val_loss: 61.6536 - val_age_output_loss: 15.1172 - val_race_output_loss: 0.7899 - val_age_output_mae: 1.6681 - val_race_output_accuracy: 0.7778\n",
      "Epoch 28/100\n",
      "146/146 [==============================] - 15s 104ms/step - loss: 1.1293 - age_output_loss: 0.1291 - race_output_loss: 0.4086 - age_output_mae: 0.2727 - race_output_accuracy: 0.8455 - val_loss: 52.6501 - val_age_output_loss: 12.8771 - val_race_output_loss: 0.7611 - val_age_output_mae: 1.5187 - val_race_output_accuracy: 0.7752\n",
      "Epoch 29/100\n",
      "146/146 [==============================] - 15s 103ms/step - loss: 1.0759 - age_output_loss: 0.1187 - race_output_loss: 0.4008 - age_output_mae: 0.2622 - race_output_accuracy: 0.8487 - val_loss: 55.6828 - val_age_output_loss: 13.6689 - val_race_output_loss: 0.6715 - val_age_output_mae: 1.5611 - val_race_output_accuracy: 0.7752\n",
      "Epoch 30/100\n",
      "146/146 [==============================] - 15s 102ms/step - loss: 1.0096 - age_output_loss: 0.1032 - race_output_loss: 0.3978 - age_output_mae: 0.2456 - race_output_accuracy: 0.8540 - val_loss: 49.2418 - val_age_output_loss: 12.0505 - val_race_output_loss: 0.6931 - val_age_output_mae: 1.4304 - val_race_output_accuracy: 0.7743\n",
      "Epoch 31/100\n",
      "146/146 [==============================] - 15s 102ms/step - loss: 0.9836 - age_output_loss: 0.0973 - race_output_loss: 0.3963 - age_output_mae: 0.2377 - race_output_accuracy: 0.8570 - val_loss: 46.9247 - val_age_output_loss: 11.4963 - val_race_output_loss: 0.6264 - val_age_output_mae: 1.3737 - val_race_output_accuracy: 0.7934\n",
      "Epoch 32/100\n",
      "146/146 [==============================] - 15s 104ms/step - loss: 0.9276 - age_output_loss: 0.0859 - race_output_loss: 0.3893 - age_output_mae: 0.2252 - race_output_accuracy: 0.8538 - val_loss: 51.3105 - val_age_output_loss: 12.5763 - val_race_output_loss: 0.6702 - val_age_output_mae: 1.4475 - val_race_output_accuracy: 0.7865\n",
      "Epoch 33/100\n",
      "146/146 [==============================] - 15s 101ms/step - loss: 0.8603 - age_output_loss: 0.0790 - race_output_loss: 0.3628 - age_output_mae: 0.2160 - race_output_accuracy: 0.8692 - val_loss: 52.0455 - val_age_output_loss: 12.7676 - val_race_output_loss: 0.6500 - val_age_output_mae: 1.4941 - val_race_output_accuracy: 0.7917\n",
      "Epoch 34/100\n",
      "146/146 [==============================] - 15s 104ms/step - loss: 0.7880 - age_output_loss: 0.0655 - race_output_loss: 0.3507 - age_output_mae: 0.1975 - race_output_accuracy: 0.8671 - val_loss: 47.5845 - val_age_output_loss: 11.6023 - val_race_output_loss: 0.7835 - val_age_output_mae: 1.4114 - val_race_output_accuracy: 0.7804\n",
      "Epoch 35/100\n",
      "146/146 [==============================] - 15s 103ms/step - loss: 0.7531 - age_output_loss: 0.0627 - race_output_loss: 0.3348 - age_output_mae: 0.1923 - race_output_accuracy: 0.8838 - val_loss: 48.1105 - val_age_output_loss: 11.7535 - val_race_output_loss: 0.7310 - val_age_output_mae: 1.4173 - val_race_output_accuracy: 0.7786\n",
      "Epoch 36/100\n",
      "146/146 [==============================] - 15s 104ms/step - loss: 0.7381 - age_output_loss: 0.0559 - race_output_loss: 0.3431 - age_output_mae: 0.1816 - race_output_accuracy: 0.8739 - val_loss: 48.2280 - val_age_output_loss: 11.7930 - val_race_output_loss: 0.7040 - val_age_output_mae: 1.4263 - val_race_output_accuracy: 0.7795\n",
      "Epoch 37/100\n",
      "146/146 [==============================] - 15s 103ms/step - loss: 0.6978 - age_output_loss: 0.0495 - race_output_loss: 0.3331 - age_output_mae: 0.1733 - race_output_accuracy: 0.8778 - val_loss: 36.5669 - val_age_output_loss: 8.8635 - val_race_output_loss: 0.7419 - val_age_output_mae: 1.2166 - val_race_output_accuracy: 0.7847\n",
      "Epoch 38/100\n",
      "146/146 [==============================] - 15s 104ms/step - loss: 0.6922 - age_output_loss: 0.0476 - race_output_loss: 0.3346 - age_output_mae: 0.1693 - race_output_accuracy: 0.8793 - val_loss: 37.9458 - val_age_output_loss: 9.2188 - val_race_output_loss: 0.7136 - val_age_output_mae: 1.2249 - val_race_output_accuracy: 0.7821\n",
      "Epoch 39/100\n",
      "146/146 [==============================] - 15s 102ms/step - loss: 0.6465 - age_output_loss: 0.0417 - race_output_loss: 0.3197 - age_output_mae: 0.1586 - race_output_accuracy: 0.8829 - val_loss: 36.5579 - val_age_output_loss: 8.8742 - val_race_output_loss: 0.7074 - val_age_output_mae: 1.2042 - val_race_output_accuracy: 0.7882\n",
      "Epoch 40/100\n",
      "146/146 [==============================] - 15s 105ms/step - loss: 0.6327 - age_output_loss: 0.0376 - race_output_loss: 0.3215 - age_output_mae: 0.1508 - race_output_accuracy: 0.8774 - val_loss: 37.6743 - val_age_output_loss: 9.1754 - val_race_output_loss: 0.6484 - val_age_output_mae: 1.2161 - val_race_output_accuracy: 0.7986\n",
      "Epoch 41/100\n",
      "146/146 [==============================] - 15s 107ms/step - loss: 0.5999 - age_output_loss: 0.0354 - race_output_loss: 0.3054 - age_output_mae: 0.1454 - race_output_accuracy: 0.8898 - val_loss: 30.7106 - val_age_output_loss: 7.4183 - val_race_output_loss: 0.6915 - val_age_output_mae: 1.0723 - val_race_output_accuracy: 0.7865\n",
      "Epoch 42/100\n",
      "146/146 [==============================] - 16s 107ms/step - loss: 0.5714 - age_output_loss: 0.0320 - race_output_loss: 0.2957 - age_output_mae: 0.1381 - race_output_accuracy: 0.8904 - val_loss: 30.7132 - val_age_output_loss: 7.4231 - val_race_output_loss: 0.6807 - val_age_output_mae: 1.0751 - val_race_output_accuracy: 0.7908\n",
      "Epoch 43/100\n",
      "146/146 [==============================] - 15s 106ms/step - loss: 0.5503 - age_output_loss: 0.0287 - race_output_loss: 0.2902 - age_output_mae: 0.1311 - race_output_accuracy: 0.8943 - val_loss: 30.6847 - val_age_output_loss: 7.4361 - val_race_output_loss: 0.6270 - val_age_output_mae: 1.0677 - val_race_output_accuracy: 0.8003\n",
      "Epoch 44/100\n",
      "146/146 [==============================] - 16s 107ms/step - loss: 0.5269 - age_output_loss: 0.0277 - race_output_loss: 0.2773 - age_output_mae: 0.1284 - race_output_accuracy: 0.8977 - val_loss: 29.0827 - val_age_output_loss: 7.0208 - val_race_output_loss: 0.6664 - val_age_output_mae: 1.0084 - val_race_output_accuracy: 0.7934\n",
      "Epoch 45/100\n",
      "146/146 [==============================] - 16s 108ms/step - loss: 0.5217 - age_output_loss: 0.0258 - race_output_loss: 0.2791 - age_output_mae: 0.1247 - race_output_accuracy: 0.8990 - val_loss: 27.4318 - val_age_output_loss: 6.6114 - val_race_output_loss: 0.6574 - val_age_output_mae: 0.9736 - val_race_output_accuracy: 0.8047\n",
      "Epoch 46/100\n",
      "146/146 [==============================] - 16s 108ms/step - loss: 0.5046 - age_output_loss: 0.0236 - race_output_loss: 0.2735 - age_output_mae: 0.1179 - race_output_accuracy: 0.9035 - val_loss: 25.8146 - val_age_output_loss: 6.2079 - val_race_output_loss: 0.6552 - val_age_output_mae: 0.9314 - val_race_output_accuracy: 0.8134\n",
      "Epoch 47/100\n",
      "146/146 [==============================] - 15s 104ms/step - loss: 0.4750 - age_output_loss: 0.0226 - race_output_loss: 0.2564 - age_output_mae: 0.1162 - race_output_accuracy: 0.9067 - val_loss: 25.1833 - val_age_output_loss: 6.0313 - val_race_output_loss: 0.7054 - val_age_output_mae: 0.9203 - val_race_output_accuracy: 0.7899\n",
      "Epoch 48/100\n",
      "146/146 [==============================] - 15s 106ms/step - loss: 0.4778 - age_output_loss: 0.0208 - race_output_loss: 0.2631 - age_output_mae: 0.1114 - race_output_accuracy: 0.9101 - val_loss: 24.2056 - val_age_output_loss: 5.8026 - val_race_output_loss: 0.6634 - val_age_output_mae: 0.8927 - val_race_output_accuracy: 0.8056\n",
      "Epoch 49/100\n"
     ]
    },
    {
     "name": "stdout",
     "output_type": "stream",
     "text": [
      "146/146 [==============================] - 16s 107ms/step - loss: 0.4665 - age_output_loss: 0.0201 - race_output_loss: 0.2573 - age_output_mae: 0.1092 - race_output_accuracy: 0.9077 - val_loss: 16.0850 - val_age_output_loss: 3.7534 - val_race_output_loss: 0.7142 - val_age_output_mae: 0.6562 - val_race_output_accuracy: 0.7977\n",
      "Epoch 50/100\n",
      "146/146 [==============================] - 15s 106ms/step - loss: 0.4433 - age_output_loss: 0.0193 - race_output_loss: 0.2441 - age_output_mae: 0.1073 - race_output_accuracy: 0.9144 - val_loss: 19.0166 - val_age_output_loss: 4.5060 - val_race_output_loss: 0.6618 - val_age_output_mae: 0.7413 - val_race_output_accuracy: 0.8177\n",
      "Epoch 51/100\n",
      "146/146 [==============================] - 16s 111ms/step - loss: 0.4348 - age_output_loss: 0.0185 - race_output_loss: 0.2404 - age_output_mae: 0.1044 - race_output_accuracy: 0.9182 - val_loss: 17.9597 - val_age_output_loss: 4.2292 - val_race_output_loss: 0.6954 - val_age_output_mae: 0.7134 - val_race_output_accuracy: 0.8038\n",
      "Epoch 52/100\n",
      "146/146 [==============================] - 16s 109ms/step - loss: 0.4170 - age_output_loss: 0.0182 - race_output_loss: 0.2293 - age_output_mae: 0.1039 - race_output_accuracy: 0.9142 - val_loss: 17.5876 - val_age_output_loss: 4.1480 - val_race_output_loss: 0.6638 - val_age_output_mae: 0.7003 - val_race_output_accuracy: 0.8160\n",
      "Epoch 53/100\n",
      "146/146 [==============================] - 17s 117ms/step - loss: 0.4134 - age_output_loss: 0.0179 - race_output_loss: 0.2279 - age_output_mae: 0.1026 - race_output_accuracy: 0.9191 - val_loss: 15.5200 - val_age_output_loss: 3.6420 - val_race_output_loss: 0.6346 - val_age_output_mae: 0.6505 - val_race_output_accuracy: 0.8168\n",
      "Epoch 54/100\n",
      "146/146 [==============================] - 18s 125ms/step - loss: 0.4022 - age_output_loss: 0.0176 - race_output_loss: 0.2213 - age_output_mae: 0.1022 - race_output_accuracy: 0.9204 - val_loss: 16.9108 - val_age_output_loss: 3.9810 - val_race_output_loss: 0.6578 - val_age_output_mae: 0.6887 - val_race_output_accuracy: 0.8099\n",
      "Epoch 55/100\n",
      "146/146 [==============================] - 18s 126ms/step - loss: 0.4061 - age_output_loss: 0.0168 - race_output_loss: 0.2259 - age_output_mae: 0.0997 - race_output_accuracy: 0.9225 - val_loss: 13.4717 - val_age_output_loss: 3.1294 - val_race_output_loss: 0.6360 - val_age_output_mae: 0.5962 - val_race_output_accuracy: 0.8134\n",
      "Epoch 56/100\n",
      "146/146 [==============================] - 18s 124ms/step - loss: 0.3736 - age_output_loss: 0.0162 - race_output_loss: 0.2059 - age_output_mae: 0.0979 - race_output_accuracy: 0.9279 - val_loss: 13.8723 - val_age_output_loss: 3.2306 - val_race_output_loss: 0.6333 - val_age_output_mae: 0.6156 - val_race_output_accuracy: 0.8134\n",
      "Epoch 57/100\n",
      "146/146 [==============================] - 18s 121ms/step - loss: 0.3722 - age_output_loss: 0.0163 - race_output_loss: 0.2046 - age_output_mae: 0.0978 - race_output_accuracy: 0.9272 - val_loss: 12.5292 - val_age_output_loss: 2.8818 - val_race_output_loss: 0.6679 - val_age_output_mae: 0.5709 - val_race_output_accuracy: 0.8116\n",
      "Epoch 58/100\n",
      "146/146 [==============================] - 16s 108ms/step - loss: 0.3582 - age_output_loss: 0.0162 - race_output_loss: 0.1956 - age_output_mae: 0.0967 - race_output_accuracy: 0.9324 - val_loss: 14.4319 - val_age_output_loss: 3.3526 - val_race_output_loss: 0.6811 - val_age_output_mae: 0.6264 - val_race_output_accuracy: 0.8194\n",
      "Epoch 59/100\n",
      "146/146 [==============================] - 15s 103ms/step - loss: 0.3604 - age_output_loss: 0.0157 - race_output_loss: 0.1984 - age_output_mae: 0.0961 - race_output_accuracy: 0.9298 - val_loss: 13.1933 - val_age_output_loss: 3.0148 - val_race_output_loss: 0.7562 - val_age_output_mae: 0.5903 - val_race_output_accuracy: 0.8030\n",
      "Epoch 60/100\n",
      "146/146 [==============================] - 16s 107ms/step - loss: 0.3524 - age_output_loss: 0.0156 - race_output_loss: 0.1932 - age_output_mae: 0.0958 - race_output_accuracy: 0.9315 - val_loss: 12.7002 - val_age_output_loss: 2.9051 - val_race_output_loss: 0.7199 - val_age_output_mae: 0.5776 - val_race_output_accuracy: 0.8116\n",
      "Epoch 61/100\n",
      "146/146 [==============================] - 16s 108ms/step - loss: 0.3494 - age_output_loss: 0.0150 - race_output_loss: 0.1929 - age_output_mae: 0.0936 - race_output_accuracy: 0.9336 - val_loss: 12.4730 - val_age_output_loss: 2.8538 - val_race_output_loss: 0.7053 - val_age_output_mae: 0.5684 - val_race_output_accuracy: 0.8186\n",
      "Epoch 62/100\n",
      "146/146 [==============================] - 16s 109ms/step - loss: 0.3335 - age_output_loss: 0.0152 - race_output_loss: 0.1819 - age_output_mae: 0.0939 - race_output_accuracy: 0.9366 - val_loss: 11.3397 - val_age_output_loss: 2.5642 - val_race_output_loss: 0.7220 - val_age_output_mae: 0.5349 - val_race_output_accuracy: 0.8099\n",
      "Epoch 63/100\n",
      "146/146 [==============================] - 16s 109ms/step - loss: 0.3233 - age_output_loss: 0.0149 - race_output_loss: 0.1758 - age_output_mae: 0.0928 - race_output_accuracy: 0.9362 - val_loss: 8.3769 - val_age_output_loss: 1.8374 - val_race_output_loss: 0.6848 - val_age_output_mae: 0.4522 - val_race_output_accuracy: 0.8021\n",
      "Epoch 64/100\n",
      "146/146 [==============================] - 16s 110ms/step - loss: 0.3429 - age_output_loss: 0.0144 - race_output_loss: 0.1901 - age_output_mae: 0.0924 - race_output_accuracy: 0.9313 - val_loss: 8.3392 - val_age_output_loss: 1.8127 - val_race_output_loss: 0.7257 - val_age_output_mae: 0.4487 - val_race_output_accuracy: 0.8099\n",
      "Epoch 65/100\n",
      "146/146 [==============================] - 15s 106ms/step - loss: 0.3244 - age_output_loss: 0.0141 - race_output_loss: 0.1788 - age_output_mae: 0.0909 - race_output_accuracy: 0.9360 - val_loss: 8.4387 - val_age_output_loss: 1.8425 - val_race_output_loss: 0.7125 - val_age_output_mae: 0.4394 - val_race_output_accuracy: 0.8090\n",
      "Epoch 66/100\n",
      "146/146 [==============================] - 16s 108ms/step - loss: 0.3033 - age_output_loss: 0.0145 - race_output_loss: 0.1636 - age_output_mae: 0.0915 - race_output_accuracy: 0.9414 - val_loss: 6.9516 - val_age_output_loss: 1.4777 - val_race_output_loss: 0.6938 - val_age_output_mae: 0.3820 - val_race_output_accuracy: 0.8168\n",
      "Epoch 67/100\n",
      "146/146 [==============================] - 15s 105ms/step - loss: 0.2938 - age_output_loss: 0.0136 - race_output_loss: 0.1596 - age_output_mae: 0.0896 - race_output_accuracy: 0.9469 - val_loss: 7.6573 - val_age_output_loss: 1.6650 - val_race_output_loss: 0.6648 - val_age_output_mae: 0.4136 - val_race_output_accuracy: 0.8134\n",
      "Epoch 68/100\n",
      "146/146 [==============================] - 16s 107ms/step - loss: 0.3182 - age_output_loss: 0.0143 - race_output_loss: 0.1740 - age_output_mae: 0.0914 - race_output_accuracy: 0.9405 - val_loss: 7.7542 - val_age_output_loss: 1.6734 - val_race_output_loss: 0.7071 - val_age_output_mae: 0.4138 - val_race_output_accuracy: 0.8134\n",
      "Epoch 69/100\n",
      "146/146 [==============================] - 15s 104ms/step - loss: 0.3295 - age_output_loss: 0.0140 - race_output_loss: 0.1824 - age_output_mae: 0.0904 - race_output_accuracy: 0.9356 - val_loss: 9.6929 - val_age_output_loss: 2.1556 - val_race_output_loss: 0.7137 - val_age_output_mae: 0.4740 - val_race_output_accuracy: 0.8090\n",
      "Epoch 70/100\n",
      "146/146 [==============================] - 16s 108ms/step - loss: 0.2954 - age_output_loss: 0.0144 - race_output_loss: 0.1586 - age_output_mae: 0.0904 - race_output_accuracy: 0.9471 - val_loss: 2.8657 - val_age_output_loss: 0.4591 - val_race_output_loss: 0.6862 - val_age_output_mae: 0.2170 - val_race_output_accuracy: 0.8125\n",
      "Epoch 71/100\n",
      "146/146 [==============================] - 15s 106ms/step - loss: 0.2772 - age_output_loss: 0.0136 - race_output_loss: 0.1485 - age_output_mae: 0.0897 - race_output_accuracy: 0.9506 - val_loss: 5.6465 - val_age_output_loss: 1.1398 - val_race_output_loss: 0.7248 - val_age_output_mae: 0.3379 - val_race_output_accuracy: 0.8021\n",
      "Epoch 72/100\n",
      "146/146 [==============================] - 16s 108ms/step - loss: 0.3011 - age_output_loss: 0.0135 - race_output_loss: 0.1648 - age_output_mae: 0.0886 - race_output_accuracy: 0.9420 - val_loss: 5.7226 - val_age_output_loss: 1.1546 - val_race_output_loss: 0.7360 - val_age_output_mae: 0.3383 - val_race_output_accuracy: 0.8108\n",
      "Epoch 73/100\n"
     ]
    },
    {
     "name": "stdout",
     "output_type": "stream",
     "text": [
      "146/146 [==============================] - 16s 109ms/step - loss: 0.2830 - age_output_loss: 0.0132 - race_output_loss: 0.1535 - age_output_mae: 0.0882 - race_output_accuracy: 0.9458 - val_loss: 5.8796 - val_age_output_loss: 1.1920 - val_race_output_loss: 0.7410 - val_age_output_mae: 0.3359 - val_race_output_accuracy: 0.8047\n",
      "Epoch 74/100\n",
      "146/146 [==============================] - 15s 106ms/step - loss: 0.2794 - age_output_loss: 0.0129 - race_output_loss: 0.1519 - age_output_mae: 0.0865 - race_output_accuracy: 0.9516 - val_loss: 5.9754 - val_age_output_loss: 1.2156 - val_race_output_loss: 0.7419 - val_age_output_mae: 0.3526 - val_race_output_accuracy: 0.8047\n",
      "Epoch 75/100\n",
      "146/146 [==============================] - 15s 106ms/step - loss: 0.2726 - age_output_loss: 0.0131 - race_output_loss: 0.1467 - age_output_mae: 0.0876 - race_output_accuracy: 0.9493 - val_loss: 3.8971 - val_age_output_loss: 0.7054 - val_race_output_loss: 0.7171 - val_age_output_mae: 0.2645 - val_race_output_accuracy: 0.8177\n",
      "Epoch 76/100\n",
      "146/146 [==============================] - 15s 106ms/step - loss: 0.2737 - age_output_loss: 0.0127 - race_output_loss: 0.1487 - age_output_mae: 0.0861 - race_output_accuracy: 0.9480 - val_loss: 4.3031 - val_age_output_loss: 0.8243 - val_race_output_loss: 0.6707 - val_age_output_mae: 0.2858 - val_race_output_accuracy: 0.8064\n",
      "Epoch 77/100\n",
      "146/146 [==============================] - 15s 105ms/step - loss: 0.2702 - age_output_loss: 0.0125 - race_output_loss: 0.1468 - age_output_mae: 0.0850 - race_output_accuracy: 0.9506 - val_loss: 4.3023 - val_age_output_loss: 0.8297 - val_race_output_loss: 0.6557 - val_age_output_mae: 0.2887 - val_race_output_accuracy: 0.8125\n",
      "Epoch 78/100\n",
      "146/146 [==============================] - 15s 107ms/step - loss: 0.2589 - age_output_loss: 0.0124 - race_output_loss: 0.1395 - age_output_mae: 0.0852 - race_output_accuracy: 0.9542 - val_loss: 5.9341 - val_age_output_loss: 1.1812 - val_race_output_loss: 0.8061 - val_age_output_mae: 0.3568 - val_race_output_accuracy: 0.8038\n",
      "Epoch 79/100\n",
      "146/146 [==============================] - 15s 106ms/step - loss: 0.2494 - age_output_loss: 0.0122 - race_output_loss: 0.1336 - age_output_mae: 0.0843 - race_output_accuracy: 0.9542 - val_loss: 3.2531 - val_age_output_loss: 0.4978 - val_race_output_loss: 0.8411 - val_age_output_mae: 0.2334 - val_race_output_accuracy: 0.7995\n",
      "Epoch 80/100\n",
      "146/146 [==============================] - 15s 106ms/step - loss: 0.2341 - age_output_loss: 0.0121 - race_output_loss: 0.1239 - age_output_mae: 0.0837 - race_output_accuracy: 0.9591 - val_loss: 3.5869 - val_age_output_loss: 0.6224 - val_race_output_loss: 0.7316 - val_age_output_mae: 0.2664 - val_race_output_accuracy: 0.8125\n",
      "Epoch 81/100\n",
      "146/146 [==============================] - 16s 108ms/step - loss: 0.2476 - age_output_loss: 0.0121 - race_output_loss: 0.1329 - age_output_mae: 0.0837 - race_output_accuracy: 0.9544 - val_loss: 3.3941 - val_age_output_loss: 0.5635 - val_race_output_loss: 0.7601 - val_age_output_mae: 0.2531 - val_race_output_accuracy: 0.8090\n",
      "Epoch 82/100\n",
      "146/146 [==============================] - 15s 105ms/step - loss: 0.2527 - age_output_loss: 0.0120 - race_output_loss: 0.1365 - age_output_mae: 0.0837 - race_output_accuracy: 0.9568 - val_loss: 3.7354 - val_age_output_loss: 0.6600 - val_race_output_loss: 0.7303 - val_age_output_mae: 0.2527 - val_race_output_accuracy: 0.8116\n",
      "Epoch 83/100\n",
      "146/146 [==============================] - 15s 106ms/step - loss: 0.2463 - age_output_loss: 0.0117 - race_output_loss: 0.1329 - age_output_mae: 0.0826 - race_output_accuracy: 0.9557 - val_loss: 3.9189 - val_age_output_loss: 0.6884 - val_race_output_loss: 0.7768 - val_age_output_mae: 0.2614 - val_race_output_accuracy: 0.8082\n",
      "Epoch 84/100\n",
      "146/146 [==============================] - 16s 107ms/step - loss: 0.2400 - age_output_loss: 0.0113 - race_output_loss: 0.1300 - age_output_mae: 0.0805 - race_output_accuracy: 0.9531 - val_loss: 3.8925 - val_age_output_loss: 0.6577 - val_race_output_loss: 0.8412 - val_age_output_mae: 0.2642 - val_race_output_accuracy: 0.8073\n",
      "Epoch 85/100\n",
      "146/146 [==============================] - 15s 106ms/step - loss: 0.2115 - age_output_loss: 0.0115 - race_output_loss: 0.1103 - age_output_mae: 0.0822 - race_output_accuracy: 0.9655 - val_loss: 3.2035 - val_age_output_loss: 0.4963 - val_race_output_loss: 0.8123 - val_age_output_mae: 0.2424 - val_race_output_accuracy: 0.8090\n",
      "Epoch 86/100\n",
      "146/146 [==============================] - 15s 104ms/step - loss: 0.2228 - age_output_loss: 0.0119 - race_output_loss: 0.1169 - age_output_mae: 0.0832 - race_output_accuracy: 0.9606 - val_loss: 2.8044 - val_age_output_loss: 0.4031 - val_race_output_loss: 0.7948 - val_age_output_mae: 0.2086 - val_race_output_accuracy: 0.8090\n",
      "Epoch 87/100\n",
      "146/146 [==============================] - 15s 104ms/step - loss: 0.2316 - age_output_loss: 0.0114 - race_output_loss: 0.1240 - age_output_mae: 0.0820 - race_output_accuracy: 0.9563 - val_loss: 3.8164 - val_age_output_loss: 0.6803 - val_race_output_loss: 0.7300 - val_age_output_mae: 0.2578 - val_race_output_accuracy: 0.8108\n",
      "Epoch 88/100\n",
      "146/146 [==============================] - 15s 107ms/step - loss: 0.2175 - age_output_loss: 0.0115 - race_output_loss: 0.1144 - age_output_mae: 0.0815 - race_output_accuracy: 0.9632 - val_loss: 3.1597 - val_age_output_loss: 0.4662 - val_race_output_loss: 0.8634 - val_age_output_mae: 0.2259 - val_race_output_accuracy: 0.8090\n",
      "Epoch 89/100\n",
      "146/146 [==============================] - 15s 106ms/step - loss: 0.2061 - age_output_loss: 0.0109 - race_output_loss: 0.1084 - age_output_mae: 0.0799 - race_output_accuracy: 0.9632 - val_loss: 4.0759 - val_age_output_loss: 0.7275 - val_race_output_loss: 0.7772 - val_age_output_mae: 0.2410 - val_race_output_accuracy: 0.8116\n",
      "Epoch 90/100\n",
      "146/146 [==============================] - 16s 108ms/step - loss: 0.2106 - age_output_loss: 0.0113 - race_output_loss: 0.1102 - age_output_mae: 0.0810 - race_output_accuracy: 0.9660 - val_loss: 4.0705 - val_age_output_loss: 0.7130 - val_race_output_loss: 0.8124 - val_age_output_mae: 0.2410 - val_race_output_accuracy: 0.8142\n",
      "Epoch 91/100\n",
      "146/146 [==============================] - 15s 106ms/step - loss: 0.2198 - age_output_loss: 0.0111 - race_output_loss: 0.1169 - age_output_mae: 0.0811 - race_output_accuracy: 0.9625 - val_loss: 3.2139 - val_age_output_loss: 0.5205 - val_race_output_loss: 0.7547 - val_age_output_mae: 0.2120 - val_race_output_accuracy: 0.8125\n",
      "Epoch 92/100\n",
      "146/146 [==============================] - 15s 106ms/step - loss: 0.2161 - age_output_loss: 0.0109 - race_output_loss: 0.1149 - age_output_mae: 0.0797 - race_output_accuracy: 0.9621 - val_loss: 3.7423 - val_age_output_loss: 0.6406 - val_race_output_loss: 0.7867 - val_age_output_mae: 0.2231 - val_race_output_accuracy: 0.8073\n",
      "Epoch 93/100\n",
      "146/146 [==============================] - 15s 103ms/step - loss: 0.2049 - age_output_loss: 0.0102 - race_output_loss: 0.1093 - age_output_mae: 0.0772 - race_output_accuracy: 0.9604 - val_loss: 3.1578 - val_age_output_loss: 0.4890 - val_race_output_loss: 0.8011 - val_age_output_mae: 0.2067 - val_race_output_accuracy: 0.8194\n",
      "Epoch 94/100\n",
      "146/146 [==============================] - 15s 103ms/step - loss: 0.1993 - age_output_loss: 0.0104 - race_output_loss: 0.1051 - age_output_mae: 0.0777 - race_output_accuracy: 0.9662 - val_loss: 2.5117 - val_age_output_loss: 0.3345 - val_race_output_loss: 0.7824 - val_age_output_mae: 0.1814 - val_race_output_accuracy: 0.8142\n",
      "Epoch 95/100\n",
      "146/146 [==============================] - 15s 103ms/step - loss: 0.2176 - age_output_loss: 0.0106 - race_output_loss: 0.1169 - age_output_mae: 0.0783 - race_output_accuracy: 0.9589 - val_loss: 2.4685 - val_age_output_loss: 0.3127 - val_race_output_loss: 0.8118 - val_age_output_mae: 0.1828 - val_race_output_accuracy: 0.8151\n",
      "Epoch 96/100\n",
      "146/146 [==============================] - 15s 103ms/step - loss: 0.1878 - age_output_loss: 0.0101 - race_output_loss: 0.0984 - age_output_mae: 0.0772 - race_output_accuracy: 0.9694 - val_loss: 2.5054 - val_age_output_loss: 0.3298 - val_race_output_loss: 0.7908 - val_age_output_mae: 0.1919 - val_race_output_accuracy: 0.8090\n",
      "Epoch 97/100\n"
     ]
    },
    {
     "name": "stdout",
     "output_type": "stream",
     "text": [
      "146/146 [==============================] - 15s 104ms/step - loss: 0.1984 - age_output_loss: 0.0099 - race_output_loss: 0.1058 - age_output_mae: 0.0766 - race_output_accuracy: 0.9668 - val_loss: 4.2711 - val_age_output_loss: 0.7494 - val_race_output_loss: 0.8489 - val_age_output_mae: 0.2382 - val_race_output_accuracy: 0.8030\n",
      "Epoch 98/100\n",
      "146/146 [==============================] - 16s 107ms/step - loss: 0.1900 - age_output_loss: 0.0097 - race_output_loss: 0.1009 - age_output_mae: 0.0753 - race_output_accuracy: 0.9700 - val_loss: 3.0754 - val_age_output_loss: 0.4623 - val_race_output_loss: 0.8174 - val_age_output_mae: 0.1997 - val_race_output_accuracy: 0.8082\n",
      "Epoch 99/100\n",
      "146/146 [==============================] - 16s 107ms/step - loss: 0.1809 - age_output_loss: 0.0100 - race_output_loss: 0.0938 - age_output_mae: 0.0768 - race_output_accuracy: 0.9711 - val_loss: 2.3703 - val_age_output_loss: 0.2895 - val_race_output_loss: 0.8082 - val_age_output_mae: 0.1731 - val_race_output_accuracy: 0.8090\n",
      "Epoch 100/100\n",
      "146/146 [==============================] - 15s 103ms/step - loss: 0.1902 - age_output_loss: 0.0102 - race_output_loss: 0.0995 - age_output_mae: 0.0772 - race_output_accuracy: 0.9638 - val_loss: 2.1492 - val_age_output_loss: 0.2440 - val_race_output_loss: 0.7821 - val_age_output_mae: 0.1653 - val_race_output_accuracy: 0.8116\n"
     ]
    }
   ],
   "source": [
    "from tensorflow.keras.callbacks import ModelCheckpoint\n",
    "#from livelossplot import PlotLossesKerasTF\n",
    "\n",
    "batch_size = 32\n",
    "valid_batch_size = 32\n",
    "\n",
    "train_gen = data_generator.generate_images(train_idx, is_training=True, batch_size=batch_size)\n",
    "valid_gen = data_generator.generate_images(valid_idx, is_training=True, batch_size=valid_batch_size)\n",
    "checkpoint = ModelCheckpoint(\"Best_model_params.h5\", monitor='val_loss')\n",
    "callbacks = [checkpoint]\n",
    "\n",
    "history = model.fit(train_gen,\n",
    "                    steps_per_epoch=len(train_idx)//batch_size,\n",
    "                    epochs=epochs,\n",
    "                    callbacks=callbacks,\n",
    "                    validation_data=valid_gen,\n",
    "                    validation_steps=len(valid_idx)//valid_batch_size)\n",
    "                    "
   ]
  },
  {
   "cell_type": "code",
   "execution_count": 33,
   "metadata": {},
   "outputs": [],
   "source": [
    "test_batch_size = 128\n",
    "test_generator = data_generator.generate_images(test_idx, is_training=False, batch_size=test_batch_size)\n",
    "age_pred, race_pred = model.predict(test_generator, \n",
    "                                                           steps=len(test_idx)//test_batch_size)"
   ]
  },
  {
   "cell_type": "code",
   "execution_count": 35,
   "metadata": {},
   "outputs": [],
   "source": [
    "test_generator = data_generator.generate_images(test_idx, is_training=False, batch_size=test_batch_size)\n",
    "samples = 0\n",
    "images, age_true, race_true = [], [], []\n",
    "for test_batch in test_generator:\n",
    "    image = test_batch[0]\n",
    "    labels = test_batch[1]\n",
    "    \n",
    "    images.extend(image)\n",
    "    age_true.extend(labels[0])\n",
    "    race_true.extend(labels[1])\n",
    "    \n",
    "age_true = np.array(age_true)\n",
    "race_true = np.array(race_true)\n",
    "\n",
    "\n",
    "race_true = race_true.argmax(axis=-1)\n",
    "race_pred= race_pred.argmax(axis=-1)\n",
    "\n",
    "age_true = age_true * data_generator.max_age\n",
    "age_pred = age_pred * data_generator.max_age"
   ]
  },
  {
   "cell_type": "code",
   "execution_count": 36,
   "metadata": {},
   "outputs": [
    {
     "name": "stdout",
     "output_type": "stream",
     "text": [
      "              precision    recall  f1-score   support\n",
      "\n",
      "       white       0.81      0.93      0.87       717\n",
      "       black       0.92      0.84      0.87       330\n",
      "       asian       0.80      0.79      0.80       232\n",
      "      others       0.48      0.22      0.30       129\n",
      "\n",
      "    accuracy                           0.82      1408\n",
      "   macro avg       0.75      0.69      0.71      1408\n",
      "weighted avg       0.81      0.82      0.81      1408\n",
      "\n"
     ]
    }
   ],
   "source": [
    "from sklearn.metrics import classification_report\n",
    "cr_race = classification_report(race_true, race_pred, target_names=dataset_dict['race_alias'].keys())\n",
    "print(cr_race)"
   ]
  },
  {
   "cell_type": "code",
   "execution_count": 41,
   "metadata": {},
   "outputs": [
    {
     "name": "stdout",
     "output_type": "stream",
     "text": [
      "R2 score for age:  -16.572098745946555\n"
     ]
    }
   ],
   "source": [
    "from sklearn.metrics import r2_score\n",
    "print('R2 score for age: ', r2_score(age_true, age_pred))"
   ]
  },
  {
   "cell_type": "code",
   "execution_count": null,
   "metadata": {},
   "outputs": [],
   "source": []
  }
 ],
 "metadata": {
  "kernelspec": {
   "display_name": "Python 3",
   "language": "python",
   "name": "python3"
  },
  "language_info": {
   "codemirror_mode": {
    "name": "ipython",
    "version": 3
   },
   "file_extension": ".py",
   "mimetype": "text/x-python",
   "name": "python",
   "nbconvert_exporter": "python",
   "pygments_lexer": "ipython3",
   "version": "3.8.10"
  }
 },
 "nbformat": 4,
 "nbformat_minor": 4
}
