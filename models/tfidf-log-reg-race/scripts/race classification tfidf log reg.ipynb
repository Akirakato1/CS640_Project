{
 "cells": [
  {
   "cell_type": "code",
   "execution_count": 2,
   "metadata": {},
   "outputs": [],
   "source": [
    "import pandas as pd\n",
    "import numpy as np\n",
    "from sklearn.feature_extraction.text import TfidfVectorizer,CountVectorizer\n",
    "from sklearn.linear_model import LogisticRegression"
   ]
  },
  {
   "cell_type": "code",
   "execution_count": 3,
   "metadata": {},
   "outputs": [],
   "source": [
    "def train_test_split_user(df, test_ratio):\n",
    "    keys=data.groupby('user_id').count().reset_index()['user_id'].to_numpy()\n",
    "    index=int(len(keys)*test_ratio)\n",
    "    np.random.shuffle(keys)\n",
    "    test=df[df['user_id'].isin(keys[0:index])]\n",
    "    train=df[df['user_id'].isin(keys[index:])]\n",
    "    return train, test\n",
    "    \n",
    "def create_X_y(df):\n",
    "    X=df['clean_text'].to_numpy()\n",
    "    y=df['race'].to_numpy()\n",
    "    return X, y"
   ]
  },
  {
   "cell_type": "code",
   "execution_count": 20,
   "metadata": {},
   "outputs": [
    {
     "name": "stdout",
     "output_type": "stream",
     "text": [
      "      user_id\n",
      "race         \n",
      "1.0       374\n",
      "2.0       241\n",
      "3.0       140\n",
      "4.0      3184\n",
      "5.0       153\n"
     ]
    },
    {
     "name": "stderr",
     "output_type": "stream",
     "text": [
      "Exception ignored in: <bound method ExcelFile.__del__ of <pandas.io.excel._base.ExcelFile object at 0x0000025183369240>>\n",
      "Traceback (most recent call last):\n",
      "  File \"c:\\users\\zhuyl\\appdata\\local\\programs\\python\\python36\\lib\\site-packages\\pandas\\io\\excel\\_base.py\", line 950, in __del__\n",
      "    try:\n",
      "KeyboardInterrupt: \n"
     ]
    },
    {
     "name": "stdout",
     "output_type": "stream",
     "text": [
      "      user_id  clean_text\n",
      "race                     \n",
      "1.0     27183       27183\n",
      "2.0     16822       16822\n",
      "3.0      9433        9433\n",
      "4.0     27818       27818\n"
     ]
    }
   ],
   "source": [
    "labeled_users=pd.read_csv(\"./data/labeled_users.csv\",lineterminator='\\r')[['user_id','race']]\n",
    "labeled_users['user_id']=labeled_users['user_id'].apply(lambda x: x[1:])\n",
    "#for weighted sampling:\n",
    "#white_users=labeled_users[labeled_users['race']==4]\n",
    "#labeled_users=labeled_users[labeled_users['race']!=4]\n",
    "#white_users=white_users.sample(frac=0.12)\n",
    "#labeled_users = labeled_users.append(white_users, ignore_index=True)\n",
    "cleaned_tweets=pd.read_excel(\"./data/cleaned_tweets.xlsx\",engine='openpyxl')\n",
    "cleaned_tweets['user_id']=pd.to_numeric(cleaned_tweets['user_id'], downcast=\"integer\")\n",
    "labeled_users['user_id']=pd.to_numeric(labeled_users['user_id'], downcast=\"integer\")\n",
    "data=pd.merge(cleaned_tweets, labeled_users, left_on='user_id', right_on='user_id')\n",
    "data=data[['user_id','clean_text','race']]\n",
    "data=data.dropna()\n",
    "data=data[data['race']<5]\n",
    "print(data.groupby('race').count())\n",
    "drop, data= train_test_split_user(data, 0.5)\n",
    "train_all, test =train_test_split_user(data, 0.1)"
   ]
  },
  {
   "cell_type": "code",
   "execution_count": 7,
   "metadata": {},
   "outputs": [
    {
     "name": "stdout",
     "output_type": "stream",
     "text": [
      "(102610, 10397)\n"
     ]
    },
    {
     "name": "stderr",
     "output_type": "stream",
     "text": [
      "c:\\users\\zhuyl\\appdata\\local\\programs\\python\\python36\\lib\\site-packages\\sklearn\\linear_model\\_logistic.py:764: ConvergenceWarning: lbfgs failed to converge (status=1):\n",
      "STOP: TOTAL NO. of ITERATIONS REACHED LIMIT.\n",
      "\n",
      "Increase the number of iterations (max_iter) or scale the data as shown in:\n",
      "    https://scikit-learn.org/stable/modules/preprocessing.html\n",
      "Please also refer to the documentation for alternative solver options:\n",
      "    https://scikit-learn.org/stable/modules/linear_model.html#logistic-regression\n",
      "  extra_warning_msg=_LOGISTIC_SOLVER_CONVERGENCE_MSG)\n"
     ]
    },
    {
     "name": "stdout",
     "output_type": "stream",
     "text": [
      "1) train: 0.8306500341097359\n",
      "1) val: 0.8028149289265457\n",
      "(100511, 10297)\n"
     ]
    },
    {
     "name": "stderr",
     "output_type": "stream",
     "text": [
      "c:\\users\\zhuyl\\appdata\\local\\programs\\python\\python36\\lib\\site-packages\\sklearn\\linear_model\\_logistic.py:764: ConvergenceWarning: lbfgs failed to converge (status=1):\n",
      "STOP: TOTAL NO. of ITERATIONS REACHED LIMIT.\n",
      "\n",
      "Increase the number of iterations (max_iter) or scale the data as shown in:\n",
      "    https://scikit-learn.org/stable/modules/preprocessing.html\n",
      "Please also refer to the documentation for alternative solver options:\n",
      "    https://scikit-learn.org/stable/modules/linear_model.html#logistic-regression\n",
      "  extra_warning_msg=_LOGISTIC_SOLVER_CONVERGENCE_MSG)\n"
     ]
    },
    {
     "name": "stdout",
     "output_type": "stream",
     "text": [
      "2) train: 0.8174030703107122\n",
      "2) val: 0.801484489881661\n",
      "(101545, 10421)\n"
     ]
    },
    {
     "name": "stderr",
     "output_type": "stream",
     "text": [
      "c:\\users\\zhuyl\\appdata\\local\\programs\\python\\python36\\lib\\site-packages\\sklearn\\linear_model\\_logistic.py:764: ConvergenceWarning: lbfgs failed to converge (status=1):\n",
      "STOP: TOTAL NO. of ITERATIONS REACHED LIMIT.\n",
      "\n",
      "Increase the number of iterations (max_iter) or scale the data as shown in:\n",
      "    https://scikit-learn.org/stable/modules/preprocessing.html\n",
      "Please also refer to the documentation for alternative solver options:\n",
      "    https://scikit-learn.org/stable/modules/linear_model.html#logistic-regression\n",
      "  extra_warning_msg=_LOGISTIC_SOLVER_CONVERGENCE_MSG)\n"
     ]
    },
    {
     "name": "stdout",
     "output_type": "stream",
     "text": [
      "3) train: 0.8253385198680389\n",
      "3) val: 0.8025348364960437\n",
      "(101421, 10322)\n"
     ]
    },
    {
     "name": "stderr",
     "output_type": "stream",
     "text": [
      "c:\\users\\zhuyl\\appdata\\local\\programs\\python\\python36\\lib\\site-packages\\sklearn\\linear_model\\_logistic.py:764: ConvergenceWarning: lbfgs failed to converge (status=1):\n",
      "STOP: TOTAL NO. of ITERATIONS REACHED LIMIT.\n",
      "\n",
      "Increase the number of iterations (max_iter) or scale the data as shown in:\n",
      "    https://scikit-learn.org/stable/modules/preprocessing.html\n",
      "Please also refer to the documentation for alternative solver options:\n",
      "    https://scikit-learn.org/stable/modules/linear_model.html#logistic-regression\n",
      "  extra_warning_msg=_LOGISTIC_SOLVER_CONVERGENCE_MSG)\n"
     ]
    },
    {
     "name": "stdout",
     "output_type": "stream",
     "text": [
      "4) train: 0.8155904595695171\n",
      "4) val: 0.8003641201596526\n",
      "(101226, 10364)\n"
     ]
    },
    {
     "name": "stderr",
     "output_type": "stream",
     "text": [
      "c:\\users\\zhuyl\\appdata\\local\\programs\\python\\python36\\lib\\site-packages\\sklearn\\linear_model\\_logistic.py:764: ConvergenceWarning: lbfgs failed to converge (status=1):\n",
      "STOP: TOTAL NO. of ITERATIONS REACHED LIMIT.\n",
      "\n",
      "Increase the number of iterations (max_iter) or scale the data as shown in:\n",
      "    https://scikit-learn.org/stable/modules/preprocessing.html\n",
      "Please also refer to the documentation for alternative solver options:\n",
      "    https://scikit-learn.org/stable/modules/linear_model.html#logistic-regression\n",
      "  extra_warning_msg=_LOGISTIC_SOLVER_CONVERGENCE_MSG)\n"
     ]
    },
    {
     "name": "stdout",
     "output_type": "stream",
     "text": [
      "5) train: 0.8279592199632505\n",
      "5) val: 0.8021146978502905\n"
     ]
    }
   ],
   "source": [
    "i=1\n",
    "epochs=5\n",
    "score=0\n",
    "while i <= epochs:\n",
    "    vectorizer = TfidfVectorizer(min_df=4)\n",
    "    train, val= train_test_split_user(train_all, 0.2)\n",
    "    train_X, train_y=create_X_y(train)\n",
    "    val_X, val_y=create_X_y(test)\n",
    "    train_X = vectorizer.fit_transform(train_X).todense()\n",
    "    val_X=vectorizer.transform(val_X)\n",
    "    print(train_X.shape)\n",
    "    clf = LogisticRegression(random_state=0).fit(train_X, train_y)\n",
    "    train_score=clf.score(train_X, train_y)\n",
    "    val_score=clf.score(val_X,val_y)\n",
    "    print(str(i)+\") train: \"+str(train_score))\n",
    "    print(str(i)+\") val: \"+str(val_score))\n",
    "    if score<val_score:\n",
    "        score=val_score\n",
    "        best_vectorizer=vectorizer\n",
    "        best_model=clf\n",
    "    i+=1"
   ]
  },
  {
   "cell_type": "code",
   "execution_count": 8,
   "metadata": {},
   "outputs": [
    {
     "name": "stdout",
     "output_type": "stream",
     "text": [
      "test score: 0.8028149289265457\n",
      "              precision    recall  f1-score   support\n",
      "\n",
      "       Black       0.05      0.01      0.01      1201\n",
      "    Hispanic       0.25      0.01      0.01      1057\n",
      "       Asian       0.00      0.00      0.00       391\n",
      "       White       0.81      0.98      0.89     11632\n",
      "\n",
      "    accuracy                           0.80     14281\n",
      "   macro avg       0.28      0.25      0.23     14281\n",
      "weighted avg       0.69      0.80      0.73     14281\n",
      "\n"
     ]
    },
    {
     "data": {
      "image/png": "[encoded data removed]",
      "text/plain": [
       "<Figure size 720x504 with 2 Axes>"
      ]
     },
     "metadata": {
      "needs_background": "light"
     },
     "output_type": "display_data"
    }
   ],
   "source": [
    "from sklearn.metrics import confusion_matrix\n",
    "from sklearn.metrics import classification_report\n",
    "import seaborn as sn\n",
    "import matplotlib.pyplot as plt\n",
    "class_names=[\"Black\",\"Hispanic\",\"Asian\",\"White\"]\n",
    "test_X, test_y=create_X_y(test)\n",
    "test_X=best_vectorizer.transform(test_X)\n",
    "test_pred=best_model.predict(test_X)\n",
    "cm = confusion_matrix(test_y, test_pred, normalize='pred')\n",
    "df_cm = pd.DataFrame(cm, index = class_names,\n",
    "                  columns = class_names)\n",
    "plt.figure(figsize = (10,7))\n",
    "sn.heatmap(df_cm, annot=True)\n",
    "test_score=best_model.score(test_X,test_y)\n",
    "print(\"test score: \"+str(test_score))\n",
    "print(classification_report(test_y, test_pred, target_names=class_names))"
   ]
  },
  {
   "cell_type": "code",
   "execution_count": 19,
   "metadata": {},
   "outputs": [
    {
     "name": "stdout",
     "output_type": "stream",
     "text": [
      "(29187, 6707)\n"
     ]
    },
    {
     "name": "stderr",
     "output_type": "stream",
     "text": [
      "c:\\users\\zhuyl\\appdata\\local\\programs\\python\\python36\\lib\\site-packages\\sklearn\\linear_model\\_logistic.py:764: ConvergenceWarning: lbfgs failed to converge (status=1):\n",
      "STOP: TOTAL NO. of ITERATIONS REACHED LIMIT.\n",
      "\n",
      "Increase the number of iterations (max_iter) or scale the data as shown in:\n",
      "    https://scikit-learn.org/stable/modules/preprocessing.html\n",
      "Please also refer to the documentation for alternative solver options:\n",
      "    https://scikit-learn.org/stable/modules/linear_model.html#logistic-regression\n",
      "  extra_warning_msg=_LOGISTIC_SOLVER_CONVERGENCE_MSG)\n"
     ]
    },
    {
     "name": "stdout",
     "output_type": "stream",
     "text": [
      "1) train: 0.6305889608387296\n",
      "1) val: 0.3286620835536753\n",
      "(29042, 6544)\n"
     ]
    },
    {
     "name": "stderr",
     "output_type": "stream",
     "text": [
      "c:\\users\\zhuyl\\appdata\\local\\programs\\python\\python36\\lib\\site-packages\\sklearn\\linear_model\\_logistic.py:764: ConvergenceWarning: lbfgs failed to converge (status=1):\n",
      "STOP: TOTAL NO. of ITERATIONS REACHED LIMIT.\n",
      "\n",
      "Increase the number of iterations (max_iter) or scale the data as shown in:\n",
      "    https://scikit-learn.org/stable/modules/preprocessing.html\n",
      "Please also refer to the documentation for alternative solver options:\n",
      "    https://scikit-learn.org/stable/modules/linear_model.html#logistic-regression\n",
      "  extra_warning_msg=_LOGISTIC_SOLVER_CONVERGENCE_MSG)\n"
     ]
    },
    {
     "name": "stdout",
     "output_type": "stream",
     "text": [
      "2) train: 0.6265408718407823\n",
      "2) val: 0.3262823902696986\n",
      "(29667, 6767)\n"
     ]
    },
    {
     "name": "stderr",
     "output_type": "stream",
     "text": [
      "c:\\users\\zhuyl\\appdata\\local\\programs\\python\\python36\\lib\\site-packages\\sklearn\\linear_model\\_logistic.py:764: ConvergenceWarning: lbfgs failed to converge (status=1):\n",
      "STOP: TOTAL NO. of ITERATIONS REACHED LIMIT.\n",
      "\n",
      "Increase the number of iterations (max_iter) or scale the data as shown in:\n",
      "    https://scikit-learn.org/stable/modules/preprocessing.html\n",
      "Please also refer to the documentation for alternative solver options:\n",
      "    https://scikit-learn.org/stable/modules/linear_model.html#logistic-regression\n",
      "  extra_warning_msg=_LOGISTIC_SOLVER_CONVERGENCE_MSG)\n"
     ]
    },
    {
     "name": "stdout",
     "output_type": "stream",
     "text": [
      "3) train: 0.6280378872147504\n",
      "3) val: 0.3233738762559492\n",
      "(29210, 6698)\n"
     ]
    },
    {
     "name": "stderr",
     "output_type": "stream",
     "text": [
      "c:\\users\\zhuyl\\appdata\\local\\programs\\python\\python36\\lib\\site-packages\\sklearn\\linear_model\\_logistic.py:764: ConvergenceWarning: lbfgs failed to converge (status=1):\n",
      "STOP: TOTAL NO. of ITERATIONS REACHED LIMIT.\n",
      "\n",
      "Increase the number of iterations (max_iter) or scale the data as shown in:\n",
      "    https://scikit-learn.org/stable/modules/preprocessing.html\n",
      "Please also refer to the documentation for alternative solver options:\n",
      "    https://scikit-learn.org/stable/modules/linear_model.html#logistic-regression\n",
      "  extra_warning_msg=_LOGISTIC_SOLVER_CONVERGENCE_MSG)\n"
     ]
    },
    {
     "name": "stdout",
     "output_type": "stream",
     "text": [
      "4) train: 0.6233824032865457\n",
      "4) val: 0.3157059756742464\n",
      "(29201, 6622)\n"
     ]
    },
    {
     "name": "stderr",
     "output_type": "stream",
     "text": [
      "c:\\users\\zhuyl\\appdata\\local\\programs\\python\\python36\\lib\\site-packages\\sklearn\\linear_model\\_logistic.py:764: ConvergenceWarning: lbfgs failed to converge (status=1):\n",
      "STOP: TOTAL NO. of ITERATIONS REACHED LIMIT.\n",
      "\n",
      "Increase the number of iterations (max_iter) or scale the data as shown in:\n",
      "    https://scikit-learn.org/stable/modules/preprocessing.html\n",
      "Please also refer to the documentation for alternative solver options:\n",
      "    https://scikit-learn.org/stable/modules/linear_model.html#logistic-regression\n",
      "  extra_warning_msg=_LOGISTIC_SOLVER_CONVERGENCE_MSG)\n"
     ]
    },
    {
     "name": "stdout",
     "output_type": "stream",
     "text": [
      "5) train: 0.6300126707989453\n",
      "5) val: 0.34056054997355895\n"
     ]
    }
   ],
   "source": [
    "i=1\n",
    "epochs=5\n",
    "score=0\n",
    "while i <= epochs:\n",
    "    vectorizer = TfidfVectorizer(min_df=4)\n",
    "    train, val= train_test_split_user(train_all, 0.2)\n",
    "    train_X, train_y=create_X_y(train)\n",
    "    val_X, val_y=create_X_y(test)\n",
    "    train_X = vectorizer.fit_transform(train_X).todense()\n",
    "    val_X=vectorizer.transform(val_X)\n",
    "    print(train_X.shape)\n",
    "    clf = LogisticRegression(random_state=0).fit(train_X, train_y)\n",
    "    train_score=clf.score(train_X, train_y)\n",
    "    val_score=clf.score(val_X,val_y)\n",
    "    print(str(i)+\") train: \"+str(train_score))\n",
    "    print(str(i)+\") val: \"+str(val_score))\n",
    "    if score<val_score:\n",
    "        score=val_score\n",
    "        best_vectorizer=vectorizer\n",
    "        best_model=clf\n",
    "    i+=1"
   ]
  },
  {
   "cell_type": "code",
   "execution_count": 17,
   "metadata": {},
   "outputs": [
    {
     "name": "stdout",
     "output_type": "stream",
     "text": [
      "test score: 0.3363299841353781\n",
      "              precision    recall  f1-score   support\n",
      "\n",
      "       Black       0.41      0.45      0.43      1363\n",
      "    Hispanic       0.11      0.06      0.08       646\n",
      "       Asian       0.36      0.03      0.05       770\n",
      "       White       0.32      0.59      0.42      1003\n",
      "\n",
      "    accuracy                           0.34      3782\n",
      "   macro avg       0.30      0.28      0.24      3782\n",
      "weighted avg       0.32      0.34      0.29      3782\n",
      "\n"
     ]
    },
    {
     "data": {
      "image/png": "[encoded data removed]",
      "text/plain": [
       "<Figure size 720x504 with 2 Axes>"
      ]
     },
     "metadata": {
      "needs_background": "light"
     },
     "output_type": "display_data"
    }
   ],
   "source": [
    "test_X, test_y=create_X_y(test)\n",
    "test_X=best_vectorizer.transform(test_X)\n",
    "test_pred=best_model.predict(test_X)\n",
    "cm = confusion_matrix(test_y, test_pred, normalize='pred')\n",
    "df_cm = pd.DataFrame(cm, index = class_names,\n",
    "                  columns = class_names)\n",
    "plt.figure(figsize = (10,7))\n",
    "sn.heatmap(df_cm, annot=True)\n",
    "test_score=best_model.score(test_X,test_y)\n",
    "print(\"test score: \"+str(test_score))\n",
    "print(classification_report(test_y, test_pred, target_names=class_names))"
   ]
  },
  {
   "cell_type": "code",
   "execution_count": null,
   "metadata": {},
   "outputs": [],
   "source": []
  }
 ],
 "metadata": {
  "kernelspec": {
   "display_name": "Python 3",
   "language": "python",
   "name": "python3"
  },
  "language_info": {
   "codemirror_mode": {
    "name": "ipython",
    "version": 3
   },
   "file_extension": ".py",
   "mimetype": "text/x-python",
   "name": "python",
   "nbconvert_exporter": "python",
   "pygments_lexer": "ipython3",
   "version": "3.6.6"
  }
 },
 "nbformat": 4,
 "nbformat_minor": 4
}
