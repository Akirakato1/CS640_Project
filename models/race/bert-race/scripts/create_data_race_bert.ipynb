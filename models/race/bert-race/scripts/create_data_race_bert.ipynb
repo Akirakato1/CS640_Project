{
 "cells": [
  {
   "cell_type": "code",
   "execution_count": 29,
   "metadata": {},
   "outputs": [],
   "source": [
    "import pandas as pd\n",
    "import numpy as np\n",
    "import os"
   ]
  },
  {
   "cell_type": "code",
   "execution_count": 9,
   "metadata": {},
   "outputs": [],
   "source": [
    "test_2 = pd.read_csv(\"./demographicPrediction/labeled_users.csv\")"
   ]
  },
  {
   "cell_type": "code",
   "execution_count": 10,
   "metadata": {},
   "outputs": [
    {
     "data": {
      "text/html": [
       "<div>\n",
       "<style scoped>\n",
       "    .dataframe tbody tr th:only-of-type {\n",
       "        vertical-align: middle;\n",
       "    }\n",
       "\n",
       "    .dataframe tbody tr th {\n",
       "        vertical-align: top;\n",
       "    }\n",
       "\n",
       "    .dataframe thead th {\n",
       "        text-align: right;\n",
       "    }\n",
       "</style>\n",
       "<table border=\"1\" class=\"dataframe\">\n",
       "  <thead>\n",
       "    <tr style=\"text-align: right;\">\n",
       "      <th></th>\n",
       "      <th>user_id</th>\n",
       "      <th>is_female</th>\n",
       "      <th>year_born</th>\n",
       "      <th>race</th>\n",
       "    </tr>\n",
       "  </thead>\n",
       "  <tbody>\n",
       "    <tr>\n",
       "      <th>0</th>\n",
       "      <td>12488.0</td>\n",
       "      <td>0.0</td>\n",
       "      <td>1980.0</td>\n",
       "      <td>4.0</td>\n",
       "    </tr>\n",
       "    <tr>\n",
       "      <th>1</th>\n",
       "      <td>719703.0</td>\n",
       "      <td>0.0</td>\n",
       "      <td>1985.0</td>\n",
       "      <td>4.0</td>\n",
       "    </tr>\n",
       "    <tr>\n",
       "      <th>2</th>\n",
       "      <td>722153.0</td>\n",
       "      <td>1.0</td>\n",
       "      <td>1973.0</td>\n",
       "      <td>3.0</td>\n",
       "    </tr>\n",
       "    <tr>\n",
       "      <th>3</th>\n",
       "      <td>749003.0</td>\n",
       "      <td>0.0</td>\n",
       "      <td>1982.0</td>\n",
       "      <td>5.0</td>\n",
       "    </tr>\n",
       "    <tr>\n",
       "      <th>4</th>\n",
       "      <td>755531.0</td>\n",
       "      <td>0.0</td>\n",
       "      <td>1982.0</td>\n",
       "      <td>4.0</td>\n",
       "    </tr>\n",
       "  </tbody>\n",
       "</table>\n",
       "</div>"
      ],
      "text/plain": [
       "    user_id  is_female  year_born  race\n",
       "0   12488.0        0.0     1980.0   4.0\n",
       "1  719703.0        0.0     1985.0   4.0\n",
       "2  722153.0        1.0     1973.0   3.0\n",
       "3  749003.0        0.0     1982.0   5.0\n",
       "4  755531.0        0.0     1982.0   4.0"
      ]
     },
     "execution_count": 10,
     "metadata": {},
     "output_type": "execute_result"
    }
   ],
   "source": [
    "test_2.head()"
   ]
  },
  {
   "cell_type": "code",
   "execution_count": 23,
   "metadata": {},
   "outputs": [],
   "source": [
    "test_xlsx = pd.read_excel(\"./demographicPrediction/cleaned_tweets.xlsx\",engine='openpyxl').dropna(subset=['clean_text'])"
   ]
  },
  {
   "cell_type": "code",
   "execution_count": 24,
   "metadata": {},
   "outputs": [
    {
     "data": {
      "text/html": [
       "<div>\n",
       "<style scoped>\n",
       "    .dataframe tbody tr th:only-of-type {\n",
       "        vertical-align: middle;\n",
       "    }\n",
       "\n",
       "    .dataframe tbody tr th {\n",
       "        vertical-align: top;\n",
       "    }\n",
       "\n",
       "    .dataframe thead th {\n",
       "        text-align: right;\n",
       "    }\n",
       "</style>\n",
       "<table border=\"1\" class=\"dataframe\">\n",
       "  <thead>\n",
       "    <tr style=\"text-align: right;\">\n",
       "      <th></th>\n",
       "      <th>user_id</th>\n",
       "      <th>clean_text</th>\n",
       "      <th>@</th>\n",
       "      <th>#</th>\n",
       "    </tr>\n",
       "  </thead>\n",
       "  <tbody>\n",
       "    <tr>\n",
       "      <th>0</th>\n",
       "      <td>12488</td>\n",
       "      <td>YKAR a futuristic sans serif font by -</td>\n",
       "      <td>@EmmeranR</td>\n",
       "      <td>#Freebie #Font #Merci</td>\n",
       "    </tr>\n",
       "    <tr>\n",
       "      <th>1</th>\n",
       "      <td>12488</td>\n",
       "      <td>Who can I contact about the very rude and poor...</td>\n",
       "      <td>@MBonvoyAssist</td>\n",
       "      <td>NaN</td>\n",
       "    </tr>\n",
       "    <tr>\n",
       "      <th>2</th>\n",
       "      <td>12488</td>\n",
       "      <td>I’d like to win</td>\n",
       "      <td>@SSlnes</td>\n",
       "      <td>NaN</td>\n",
       "    </tr>\n",
       "    <tr>\n",
       "      <th>4</th>\n",
       "      <td>12488</td>\n",
       "      <td>Now I'm heading to B1000th Floor</td>\n",
       "      <td>NaN</td>\n",
       "      <td>#quickrogue</td>\n",
       "    </tr>\n",
       "    <tr>\n",
       "      <th>5</th>\n",
       "      <td>12488</td>\n",
       "      <td>Check this out</td>\n",
       "      <td>NaN</td>\n",
       "      <td>NaN</td>\n",
       "    </tr>\n",
       "  </tbody>\n",
       "</table>\n",
       "</div>"
      ],
      "text/plain": [
       "   user_id                                         clean_text               @  \\\n",
       "0    12488             YKAR a futuristic sans serif font by -       @EmmeranR   \n",
       "1    12488  Who can I contact about the very rude and poor...  @MBonvoyAssist   \n",
       "2    12488                                    I’d like to win         @SSlnes   \n",
       "4    12488                   Now I'm heading to B1000th Floor             NaN   \n",
       "5    12488                                     Check this out             NaN   \n",
       "\n",
       "                       #  \n",
       "0  #Freebie #Font #Merci  \n",
       "1                    NaN  \n",
       "2                    NaN  \n",
       "4            #quickrogue  \n",
       "5                    NaN  "
      ]
     },
     "execution_count": 24,
     "metadata": {},
     "output_type": "execute_result"
    }
   ],
   "source": [
    "test_xlsx.head()"
   ]
  },
  {
   "cell_type": "code",
   "execution_count": 38,
   "metadata": {},
   "outputs": [
    {
     "data": {
      "text/plain": [
       "47379451      100\n",
       "7074382       100\n",
       "2318073548    100\n",
       "308636990     100\n",
       "3224857470    100\n",
       "             ... \n",
       "1936178312      1\n",
       "274768569       1\n",
       "2560318209      1\n",
       "2871497962      1\n",
       "2509346532      1\n",
       "Name: user_id, Length: 3272, dtype: int64"
      ]
     },
     "execution_count": 38,
     "metadata": {},
     "output_type": "execute_result"
    }
   ],
   "source": [
    "test_xlsx['user_id'].value_counts()"
   ]
  },
  {
   "cell_type": "code",
   "execution_count": 25,
   "metadata": {},
   "outputs": [],
   "source": [
    "#cleaned_tweets=pd.read_excel(\"./cleaned_tweets.xlsx\",engine='openpyxl').dropna(subset=['clean_text'])\n",
    "data=pd.merge(test_xlsx, test_2, left_on='user_id', right_on='user_id')\n",
    "df=data[['user_id','clean_text','race']]"
   ]
  },
  {
   "cell_type": "code",
   "execution_count": 26,
   "metadata": {},
   "outputs": [
    {
     "name": "stdout",
     "output_type": "stream",
     "text": [
      "296109\n"
     ]
    }
   ],
   "source": [
    "print(len(df))"
   ]
  },
  {
   "cell_type": "code",
   "execution_count": 49,
   "metadata": {},
   "outputs": [
    {
     "data": {
      "text/html": [
       "<div>\n",
       "<style scoped>\n",
       "    .dataframe tbody tr th:only-of-type {\n",
       "        vertical-align: middle;\n",
       "    }\n",
       "\n",
       "    .dataframe tbody tr th {\n",
       "        vertical-align: top;\n",
       "    }\n",
       "\n",
       "    .dataframe thead th {\n",
       "        text-align: right;\n",
       "    }\n",
       "</style>\n",
       "<table border=\"1\" class=\"dataframe\">\n",
       "  <thead>\n",
       "    <tr style=\"text-align: right;\">\n",
       "      <th></th>\n",
       "      <th>user_id</th>\n",
       "      <th>clean_text</th>\n",
       "      <th>race</th>\n",
       "    </tr>\n",
       "  </thead>\n",
       "  <tbody>\n",
       "    <tr>\n",
       "      <th>0</th>\n",
       "      <td>12488</td>\n",
       "      <td>YKAR a futuristic sans serif font by -</td>\n",
       "      <td>4.0</td>\n",
       "    </tr>\n",
       "    <tr>\n",
       "      <th>1</th>\n",
       "      <td>12488</td>\n",
       "      <td>Who can I contact about the very rude and poor...</td>\n",
       "      <td>4.0</td>\n",
       "    </tr>\n",
       "    <tr>\n",
       "      <th>2</th>\n",
       "      <td>12488</td>\n",
       "      <td>I’d like to win</td>\n",
       "      <td>4.0</td>\n",
       "    </tr>\n",
       "    <tr>\n",
       "      <th>3</th>\n",
       "      <td>12488</td>\n",
       "      <td>Now I'm heading to B1000th Floor</td>\n",
       "      <td>4.0</td>\n",
       "    </tr>\n",
       "    <tr>\n",
       "      <th>4</th>\n",
       "      <td>12488</td>\n",
       "      <td>Check this out</td>\n",
       "      <td>4.0</td>\n",
       "    </tr>\n",
       "  </tbody>\n",
       "</table>\n",
       "</div>"
      ],
      "text/plain": [
       "   user_id                                         clean_text  race\n",
       "0    12488             YKAR a futuristic sans serif font by -   4.0\n",
       "1    12488  Who can I contact about the very rude and poor...   4.0\n",
       "2    12488                                    I’d like to win   4.0\n",
       "3    12488                   Now I'm heading to B1000th Floor   4.0\n",
       "4    12488                                     Check this out   4.0"
      ]
     },
     "execution_count": 49,
     "metadata": {},
     "output_type": "execute_result"
    }
   ],
   "source": [
    "df.head()"
   ]
  },
  {
   "cell_type": "code",
   "execution_count": 79,
   "metadata": {},
   "outputs": [],
   "source": [
    "df_copy = df.copy()\n",
    "df_copy = df.groupby(['user_id'])['clean_text'].apply(' '.join).reset_index().drop_duplicates()"
   ]
  },
  {
   "cell_type": "code",
   "execution_count": 80,
   "metadata": {},
   "outputs": [
    {
     "name": "stdout",
     "output_type": "stream",
     "text": [
      "3158\n"
     ]
    },
    {
     "data": {
      "text/html": [
       "<div>\n",
       "<style scoped>\n",
       "    .dataframe tbody tr th:only-of-type {\n",
       "        vertical-align: middle;\n",
       "    }\n",
       "\n",
       "    .dataframe tbody tr th {\n",
       "        vertical-align: top;\n",
       "    }\n",
       "\n",
       "    .dataframe thead th {\n",
       "        text-align: right;\n",
       "    }\n",
       "</style>\n",
       "<table border=\"1\" class=\"dataframe\">\n",
       "  <thead>\n",
       "    <tr style=\"text-align: right;\">\n",
       "      <th></th>\n",
       "      <th>user_id</th>\n",
       "      <th>clean_text</th>\n",
       "      <th>race</th>\n",
       "    </tr>\n",
       "  </thead>\n",
       "  <tbody>\n",
       "    <tr>\n",
       "      <th>0</th>\n",
       "      <td>12488</td>\n",
       "      <td>YKAR a futuristic sans serif font by - Who can...</td>\n",
       "      <td>4.0</td>\n",
       "    </tr>\n",
       "    <tr>\n",
       "      <th>1</th>\n",
       "      <td>719703</td>\n",
       "      <td>In other words it’s good news about the vaccin...</td>\n",
       "      <td>4.0</td>\n",
       "    </tr>\n",
       "    <tr>\n",
       "      <th>2</th>\n",
       "      <td>749003</td>\n",
       "      <td>would it be fair to call lil nas x the first s...</td>\n",
       "      <td>5.0</td>\n",
       "    </tr>\n",
       "    <tr>\n",
       "      <th>3</th>\n",
       "      <td>811618</td>\n",
       "      <td>Blah blah blah I think RAPE is worst RT Being ...</td>\n",
       "      <td>3.0</td>\n",
       "    </tr>\n",
       "    <tr>\n",
       "      <th>4</th>\n",
       "      <td>822540</td>\n",
       "      <td>❤️ 🙏 bonk Nice Ed McBoy OOS getting real tired...</td>\n",
       "      <td>4.0</td>\n",
       "    </tr>\n",
       "  </tbody>\n",
       "</table>\n",
       "</div>"
      ],
      "text/plain": [
       "   user_id                                         clean_text  race\n",
       "0    12488  YKAR a futuristic sans serif font by - Who can...   4.0\n",
       "1   719703  In other words it’s good news about the vaccin...   4.0\n",
       "2   749003  would it be fair to call lil nas x the first s...   5.0\n",
       "3   811618  Blah blah blah I think RAPE is worst RT Being ...   3.0\n",
       "4   822540  ❤️ 🙏 bonk Nice Ed McBoy OOS getting real tired...   4.0"
      ]
     },
     "execution_count": 80,
     "metadata": {},
     "output_type": "execute_result"
    }
   ],
   "source": [
    "df_copy = df_copy.join(test_2.set_index('user_id'), on = 'user_id',how='inner').dropna(axis=0)\n",
    "df_copy = df_copy[['user_id','clean_text','race']]\n",
    "print(len(df_copy))\n",
    "df_copy.head()"
   ]
  },
  {
   "cell_type": "code",
   "execution_count": 81,
   "metadata": {},
   "outputs": [
    {
     "name": "stdout",
     "output_type": "stream",
     "text": [
      "3047\n",
      "400.0    2478\n",
      "100.0     290\n",
      "200.0     181\n",
      "300.0      98\n",
      "Name: race, dtype: int64\n",
      "400.0    2478\n",
      "100.0     290\n",
      "200.0     181\n",
      "300.0      98\n",
      "Name: race, dtype: int64\n"
     ]
    }
   ],
   "source": [
    "df_copy = df_copy[df_copy['race'] != 5.0]\n",
    "\n",
    "df_copy['race'] = df_copy['race']* 100\n",
    "print(len(df_copy))\n",
    "print(df_copy['race'].value_counts())\n",
    "race_lst = []\n",
    "races = df_copy['race'].to_list()\n",
    "\n",
    "print(df_copy['race'].value_counts())\n",
    "\n",
    "for idx, race in enumerate(races):\n",
    "    if race == 100: # Black\n",
    "        race_lst.append(0)\n",
    "    elif race == 200: # Hispanic/Latino\n",
    "        race_lst.append(1)\n",
    "    elif race == 300: # Asian\n",
    "        race_lst.append(2)\n",
    "    elif race == 400: # White\n",
    "        race_lst.append(3)\n",
    "        \n",
    "df_copy['race'] = race_lst"
   ]
  },
  {
   "cell_type": "code",
   "execution_count": 82,
   "metadata": {},
   "outputs": [
    {
     "name": "stdout",
     "output_type": "stream",
     "text": [
      "3047\n",
      "3    2478\n",
      "0     290\n",
      "1     181\n",
      "2      98\n",
      "Name: race, dtype: int64\n"
     ]
    },
    {
     "data": {
      "text/html": [
       "<div>\n",
       "<style scoped>\n",
       "    .dataframe tbody tr th:only-of-type {\n",
       "        vertical-align: middle;\n",
       "    }\n",
       "\n",
       "    .dataframe tbody tr th {\n",
       "        vertical-align: top;\n",
       "    }\n",
       "\n",
       "    .dataframe thead th {\n",
       "        text-align: right;\n",
       "    }\n",
       "</style>\n",
       "<table border=\"1\" class=\"dataframe\">\n",
       "  <thead>\n",
       "    <tr style=\"text-align: right;\">\n",
       "      <th></th>\n",
       "      <th>user_id</th>\n",
       "      <th>clean_text</th>\n",
       "      <th>race</th>\n",
       "    </tr>\n",
       "  </thead>\n",
       "  <tbody>\n",
       "    <tr>\n",
       "      <th>0</th>\n",
       "      <td>12488</td>\n",
       "      <td>YKAR a futuristic sans serif font by - Who can...</td>\n",
       "      <td>3</td>\n",
       "    </tr>\n",
       "    <tr>\n",
       "      <th>1</th>\n",
       "      <td>719703</td>\n",
       "      <td>In other words it’s good news about the vaccin...</td>\n",
       "      <td>3</td>\n",
       "    </tr>\n",
       "    <tr>\n",
       "      <th>3</th>\n",
       "      <td>811618</td>\n",
       "      <td>Blah blah blah I think RAPE is worst RT Being ...</td>\n",
       "      <td>2</td>\n",
       "    </tr>\n",
       "    <tr>\n",
       "      <th>4</th>\n",
       "      <td>822540</td>\n",
       "      <td>❤️ 🙏 bonk Nice Ed McBoy OOS getting real tired...</td>\n",
       "      <td>3</td>\n",
       "    </tr>\n",
       "    <tr>\n",
       "      <th>5</th>\n",
       "      <td>865071</td>\n",
       "      <td>How about pizza dipped in water 🤦🏻‍♂️ Day 21 o...</td>\n",
       "      <td>3</td>\n",
       "    </tr>\n",
       "  </tbody>\n",
       "</table>\n",
       "</div>"
      ],
      "text/plain": [
       "   user_id                                         clean_text  race\n",
       "0    12488  YKAR a futuristic sans serif font by - Who can...     3\n",
       "1   719703  In other words it’s good news about the vaccin...     3\n",
       "3   811618  Blah blah blah I think RAPE is worst RT Being ...     2\n",
       "4   822540  ❤️ 🙏 bonk Nice Ed McBoy OOS getting real tired...     3\n",
       "5   865071  How about pizza dipped in water 🤦🏻‍♂️ Day 21 o...     3"
      ]
     },
     "execution_count": 82,
     "metadata": {},
     "output_type": "execute_result"
    }
   ],
   "source": [
    "print(len(df_copy))\n",
    "print(df_copy['race'].value_counts())\n",
    "df_copy.head()"
   ]
  },
  {
   "cell_type": "code",
   "execution_count": 83,
   "metadata": {},
   "outputs": [],
   "source": [
    "df_copy.to_csv('./tweets_data_w_race/merged_tweets_per_user.csv',index = False)"
   ]
  }
 ],
 "metadata": {
  "kernelspec": {
   "display_name": "Python 3",
   "language": "python",
   "name": "python3"
  },
  "language_info": {
   "codemirror_mode": {
    "name": "ipython",
    "version": 3
   },
   "file_extension": ".py",
   "mimetype": "text/x-python",
   "name": "python",
   "nbconvert_exporter": "python",
   "pygments_lexer": "ipython3",
   "version": "3.8.6"
  }
 },
 "nbformat": 4,
 "nbformat_minor": 4
}
