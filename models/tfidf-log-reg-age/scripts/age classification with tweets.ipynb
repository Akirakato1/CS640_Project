{
 "cells": [
  {
   "cell_type": "code",
   "execution_count": 1,
   "metadata": {},
   "outputs": [],
   "source": [
    "import pandas as pd\n",
    "import numpy as np\n",
    "from sklearn.feature_extraction.text import TfidfVectorizer,CountVectorizer\n",
    "from sklearn.linear_model import LogisticRegression"
   ]
  },
  {
   "cell_type": "code",
   "execution_count": 2,
   "metadata": {},
   "outputs": [],
   "source": [
    "def train_test_split_user(df, test_ratio):\n",
    "    keys=data.groupby('screen_name').count().reset_index()['screen_name'].to_numpy()\n",
    "    index=int(len(keys)*test_ratio)\n",
    "    np.random.shuffle(keys)\n",
    "    test=df[df['screen_name'].isin(keys[0:index])]\n",
    "    train=df[df['screen_name'].isin(keys[index:])]\n",
    "    return train, test\n",
    "    \n",
    "def create_X_y(df):\n",
    "    X=df['clean_text'].to_numpy()\n",
    "    y=df['age'].to_numpy()\n",
    "    return X, y"
   ]
  },
  {
   "cell_type": "code",
   "execution_count": 3,
   "metadata": {},
   "outputs": [],
   "source": [
    "#age>20=1, age<=20=0\n",
    "\n",
    "labeled_users=pd.read_csv(\"./data/labeled_users.csv\",lineterminator='\\n')[['screen_name','age']]\n",
    "cleaned_tweets=pd.read_excel(\"./data/cleaned_tweets.xlsx\",engine='openpyxl').dropna(subset=['clean_text'])\n",
    "data=pd.merge(cleaned_tweets, labeled_users, left_on='user_id', right_on='screen_name')\n",
    "data=data[['screen_name','clean_text','age']]\n",
    "train_all, test =train_test_split_user(data, 0.1)"
   ]
  },
  {
   "cell_type": "code",
   "execution_count": 5,
   "metadata": {},
   "outputs": [
    {
     "name": "stderr",
     "output_type": "stream",
     "text": [
      "c:\\users\\zhuyl\\appdata\\local\\programs\\python\\python36\\lib\\site-packages\\sklearn\\linear_model\\_logistic.py:764: ConvergenceWarning: lbfgs failed to converge (status=1):\n",
      "STOP: TOTAL NO. of ITERATIONS REACHED LIMIT.\n",
      "\n",
      "Increase the number of iterations (max_iter) or scale the data as shown in:\n",
      "    https://scikit-learn.org/stable/modules/preprocessing.html\n",
      "Please also refer to the documentation for alternative solver options:\n",
      "    https://scikit-learn.org/stable/modules/linear_model.html#logistic-regression\n",
      "  extra_warning_msg=_LOGISTIC_SOLVER_CONVERGENCE_MSG)\n"
     ]
    },
    {
     "name": "stdout",
     "output_type": "stream",
     "text": [
      "1) train: 0.7251159545212001\n",
      "1) test: 0.7028855721393035\n"
     ]
    },
    {
     "name": "stderr",
     "output_type": "stream",
     "text": [
      "c:\\users\\zhuyl\\appdata\\local\\programs\\python\\python36\\lib\\site-packages\\sklearn\\linear_model\\_logistic.py:764: ConvergenceWarning: lbfgs failed to converge (status=1):\n",
      "STOP: TOTAL NO. of ITERATIONS REACHED LIMIT.\n",
      "\n",
      "Increase the number of iterations (max_iter) or scale the data as shown in:\n",
      "    https://scikit-learn.org/stable/modules/preprocessing.html\n",
      "Please also refer to the documentation for alternative solver options:\n",
      "    https://scikit-learn.org/stable/modules/linear_model.html#logistic-regression\n",
      "  extra_warning_msg=_LOGISTIC_SOLVER_CONVERGENCE_MSG)\n"
     ]
    },
    {
     "name": "stdout",
     "output_type": "stream",
     "text": [
      "2) train: 0.7250261434311189\n",
      "2) test: 0.7003980099502487\n"
     ]
    },
    {
     "name": "stderr",
     "output_type": "stream",
     "text": [
      "c:\\users\\zhuyl\\appdata\\local\\programs\\python\\python36\\lib\\site-packages\\sklearn\\linear_model\\_logistic.py:764: ConvergenceWarning: lbfgs failed to converge (status=1):\n",
      "STOP: TOTAL NO. of ITERATIONS REACHED LIMIT.\n",
      "\n",
      "Increase the number of iterations (max_iter) or scale the data as shown in:\n",
      "    https://scikit-learn.org/stable/modules/preprocessing.html\n",
      "Please also refer to the documentation for alternative solver options:\n",
      "    https://scikit-learn.org/stable/modules/linear_model.html#logistic-regression\n",
      "  extra_warning_msg=_LOGISTIC_SOLVER_CONVERGENCE_MSG)\n"
     ]
    },
    {
     "name": "stdout",
     "output_type": "stream",
     "text": [
      "3) train: 0.7242384652410094\n",
      "3) test: 0.7017910447761194\n"
     ]
    },
    {
     "name": "stderr",
     "output_type": "stream",
     "text": [
      "c:\\users\\zhuyl\\appdata\\local\\programs\\python\\python36\\lib\\site-packages\\sklearn\\linear_model\\_logistic.py:764: ConvergenceWarning: lbfgs failed to converge (status=1):\n",
      "STOP: TOTAL NO. of ITERATIONS REACHED LIMIT.\n",
      "\n",
      "Increase the number of iterations (max_iter) or scale the data as shown in:\n",
      "    https://scikit-learn.org/stable/modules/preprocessing.html\n",
      "Please also refer to the documentation for alternative solver options:\n",
      "    https://scikit-learn.org/stable/modules/linear_model.html#logistic-regression\n",
      "  extra_warning_msg=_LOGISTIC_SOLVER_CONVERGENCE_MSG)\n"
     ]
    },
    {
     "name": "stdout",
     "output_type": "stream",
     "text": [
      "4) train: 0.728937326708211\n",
      "4) test: 0.7040796019900497\n"
     ]
    },
    {
     "name": "stderr",
     "output_type": "stream",
     "text": [
      "c:\\users\\zhuyl\\appdata\\local\\programs\\python\\python36\\lib\\site-packages\\sklearn\\linear_model\\_logistic.py:764: ConvergenceWarning: lbfgs failed to converge (status=1):\n",
      "STOP: TOTAL NO. of ITERATIONS REACHED LIMIT.\n",
      "\n",
      "Increase the number of iterations (max_iter) or scale the data as shown in:\n",
      "    https://scikit-learn.org/stable/modules/preprocessing.html\n",
      "Please also refer to the documentation for alternative solver options:\n",
      "    https://scikit-learn.org/stable/modules/linear_model.html#logistic-regression\n",
      "  extra_warning_msg=_LOGISTIC_SOLVER_CONVERGENCE_MSG)\n"
     ]
    },
    {
     "name": "stdout",
     "output_type": "stream",
     "text": [
      "5) train: 0.7293532200382579\n",
      "5) test: 0.7037810945273631\n"
     ]
    }
   ],
   "source": [
    "i=1\n",
    "epochs=5\n",
    "score=0\n",
    "while i <= epochs:\n",
    "    vectorizer = TfidfVectorizer(min_df=4)\n",
    "    train, val= train_test_split_user(train_all, 0.2)\n",
    "    train_X, train_y=create_X_y(train)\n",
    "    val_X, val_y=create_X_y(test)\n",
    "    train_X = vectorizer.fit_transform(train_X).todense()\n",
    "    val_X=vectorizer.transform(val_X)\n",
    "    clf = LogisticRegression(random_state=0).fit(train_X, train_y)\n",
    "    train_score=clf.score(train_X, train_y)\n",
    "    val_score=clf.score(val_X,val_y)\n",
    "    print(str(i)+\") train: \"+str(train_score))\n",
    "    print(str(i)+\") val: \"+str(val_score))\n",
    "    if score<val_score:\n",
    "        score=val_score\n",
    "        best_vectorizer=vectorizer\n",
    "        best_model=clf\n",
    "    i+=1"
   ]
  },
  {
   "cell_type": "code",
   "execution_count": 27,
   "metadata": {},
   "outputs": [
    {
     "name": "stdout",
     "output_type": "stream",
     "text": [
      "test score: 0.7040796019900497\n",
      "              precision    recall  f1-score   support\n",
      "\n",
      "      age<21       0.72      0.95      0.82      7176\n",
      "     age>=21       0.42      0.10      0.16      2874\n",
      "\n",
      "    accuracy                           0.70     10050\n",
      "   macro avg       0.57      0.52      0.49     10050\n",
      "weighted avg       0.64      0.70      0.63     10050\n",
      "\n"
     ]
    },
    {
     "data": {
      "image/png": "[encoded data removed]",
      "text/plain": [
       "<Figure size 720x504 with 2 Axes>"
      ]
     },
     "metadata": {
      "needs_background": "light"
     },
     "output_type": "display_data"
    }
   ],
   "source": [
    "from sklearn.metrics import confusion_matrix\n",
    "from sklearn.metrics import classification_report\n",
    "import seaborn as sn\n",
    "import matplotlib.pyplot as plt\n",
    "class_names=[\"age<21\",\"age>=21\"]\n",
    "test_X, test_y=create_X_y(test)\n",
    "test_X=best_vectorizer.transform(test_X)\n",
    "test_pred=best_model.predict(test_X)\n",
    "cm = confusion_matrix(test_y, test_pred, normalize='pred')\n",
    "df_cm = pd.DataFrame(cm, index = class_names,\n",
    "                  columns = class_names)\n",
    "plt.figure(figsize = (10,7))\n",
    "sn.heatmap(df_cm, annot=True)\n",
    "test_score=best_model.score(test_X,test_y)\n",
    "print(\"test score: \"+str(test_score))\n",
    "print(classification_report(test_y, test_pred, target_names=class_names))"
   ]
  },
  {
   "cell_type": "code",
   "execution_count": 28,
   "metadata": {},
   "outputs": [
    {
     "name": "stdout",
     "output_type": "stream",
     "text": [
      "guess all 0 score: 0.7140298507462687\n"
     ]
    },
    {
     "data": {
      "text/plain": [
       "<AxesSubplot:>"
      ]
     },
     "execution_count": 28,
     "metadata": {},
     "output_type": "execute_result"
    },
    {
     "data": {
      "image/png": "[encoded data removed]",
      "text/plain": [
       "<Figure size 720x504 with 2 Axes>"
      ]
     },
     "metadata": {
      "needs_background": "light"
     },
     "output_type": "display_data"
    }
   ],
   "source": [
    "from sklearn.metrics import accuracy_score\n",
    "print(\"guess all 0 score: \"+str(accuracy_score(test_y, np.zeros(len(test_y)))))\n",
    "\n",
    "cm = confusion_matrix(test_y, np.zeros(len(test_y)), normalize='pred')\n",
    "df_cm = pd.DataFrame(cm, index = class_names,\n",
    "                  columns = class_names)\n",
    "plt.figure(figsize = (10,7))\n",
    "sn.heatmap(df_cm, annot=True)"
   ]
  }
 ],
 "metadata": {
  "kernelspec": {
   "display_name": "Python 3",
   "language": "python",
   "name": "python3"
  },
  "language_info": {
   "codemirror_mode": {
    "name": "ipython",
    "version": 3
   },
   "file_extension": ".py",
   "mimetype": "text/x-python",
   "name": "python",
   "nbconvert_exporter": "python",
   "pygments_lexer": "ipython3",
   "version": "3.6.6"
  }
 },
 "nbformat": 4,
 "nbformat_minor": 4
}
